{
 "cells": [
  {
   "cell_type": "markdown",
   "metadata": {},
   "source": [
    "# Creating Thumbnails of Images - Max  Dimension $\\leq 256$\n",
    "\n",
    "If an image is originally square with dimensions greater than 256x256, it will simply be resized to be 256x256; on the other hand, if an image is rectangular, say 460x780, it will first be resized so that the largest side length is 256, while maintaining the same aspect ratio. So, it will first be resized so that 780 becomes 256, and keeping the ratio, 460 will become $\\approx 151$."
   ]
  },
  {
   "cell_type": "code",
   "execution_count": 14,
   "metadata": {
    "collapsed": false
   },
   "outputs": [],
   "source": [
    "from PIL import Image\n",
    "import glob, os\n",
    "\n",
    "size = 256, 256\n",
    "\n",
    "input_image_dir = 'images'\n",
    "output_thumbnail_dir = 'thumbnails'\n",
    "\n",
    "for infile in glob.glob(input_image_dir + '/*.jpg'):\n",
    "    filename, ext = os.path.splitext(infile)\n",
    "    basename = os.path.basename(filename)\n",
    "    im = Image.open(infile)\n",
    "    im.thumbnail(size)\n",
    "    im.save(output_thumbnail_dir + '/' + basename + '_thumb.jpg', 'JPEG')"
   ]
  },
  {
   "cell_type": "markdown",
   "metadata": {},
   "source": [
    "# Resizing and Cropping Images to Exactly 256x256\n",
    "\n",
    "The next script _first_ resizes images such that the _shortest_ side becomes 256 pixels, and then crops the central regions of the images to make the final images exactly 256x256."
   ]
  },
  {
   "cell_type": "code",
   "execution_count": 4,
   "metadata": {
    "collapsed": false
   },
   "outputs": [],
   "source": [
    "from __future__ import division\n",
    "\n",
    "import math\n",
    "import glob, os\n",
    "\n",
    "from PIL import Image\n",
    "\n",
    "side_length = 256\n",
    "#side_length = 128\n",
    "\n",
    "input_image_dir = 'images'\n",
    "output_square_dir = 'square_images2'\n",
    "#output_square_dir = 'square_images128'\n",
    "\n",
    "for infile in glob.glob(input_image_dir + '/*.jpg'):\n",
    "    filename, ext = os.path.splitext(infile)\n",
    "    basename = os.path.basename(filename)\n",
    "    \n",
    "    im = Image.open(infile)\n",
    "    \n",
    "    [width, height] = im.size\n",
    "    \n",
    "    if width < height:\n",
    "        ratio = height / width\n",
    "        new_width = side_length\n",
    "        new_height = int(math.ceil(ratio * new_width))\n",
    "    else:\n",
    "        ratio = width / height\n",
    "        new_height = side_length\n",
    "        new_width = int(math.ceil(ratio * new_height))\n",
    "    \n",
    "    resized_im = im.resize((new_width, new_height), Image.ANTIALIAS)\n",
    "    \n",
    "    if new_width != side_length:\n",
    "        left_bound = int((new_width - side_length) / 2)\n",
    "        upper_bound = 0\n",
    "        right_bound = int((new_width + side_length) / 2)\n",
    "        lower_bound = side_length\n",
    "    else:\n",
    "        left_bound = 0\n",
    "        upper_bound = int((new_height - side_length) / 2)\n",
    "        right_bound = side_length\n",
    "        lower_bound = int((new_height + side_length) / 2)\n",
    "        \n",
    "    cropped_im = resized_im.crop((left_bound, upper_bound, right_bound, lower_bound))\n",
    "    \n",
    "    cropped_im.save(output_square_dir + '/' + basename + '_square.jpg', 'JPEG')"
   ]
  },
  {
   "cell_type": "markdown",
   "metadata": {
    "collapsed": true
   },
   "source": [
    "# Creating Tiny 16x16 (or 32x32) Images by Simple Resizing\n",
    "\n",
    "This is the simplest possible method, which will squash aspect ratios."
   ]
  },
  {
   "cell_type": "code",
   "execution_count": 107,
   "metadata": {
    "collapsed": false
   },
   "outputs": [],
   "source": [
    "from PIL import Image\n",
    "import glob, os\n",
    "\n",
    "size = 32, 32\n",
    "\n",
    "input_image_dir = 'images'\n",
    "output_tiny_dir = 'tiny_images_32'\n",
    "\n",
    "for infile in glob.glob(input_image_dir + '/*.jpg'):\n",
    "    filename, ext = os.path.splitext(infile)\n",
    "    basename = os.path.basename(filename)\n",
    "    im = Image.open(infile)\n",
    "    resized_im = im.resize(size)\n",
    "    resized_im.save(output_tiny_dir + '/' + basename + '_tiny.jpg', 'JPEG')"
   ]
  },
  {
   "cell_type": "markdown",
   "metadata": {
    "collapsed": true
   },
   "source": [
    "# Grouping Oxford 17 Flower Dataset Images into Folders for each Class\n",
    "\n",
    "Here, we create the following directory structure:\n",
    "\n",
    "For each class CLASS_K, we create a folder titled CLASS_K (using underscores when the class name contains spaces) and put all images of that class into that new folder.\n",
    "\n",
    "We take advantage of the fact that in the 17-class dataset, each class consists of exactly 80 images, and all images of a particular class appear _consecutively_ in the original dataset. Thus, we can simply take chunks of 80-images each and create new folders for each of them. The only complication is that the dataset does not seem to come with an easy way to tell which class an image belongs to; I have manually determined the correct order of the classes for the following code."
   ]
  },
  {
   "cell_type": "code",
   "execution_count": null,
   "metadata": {
    "collapsed": true
   },
   "outputs": [],
   "source": [
    "import glob, os\n",
    "\n",
    "classes = [\n",
    "    'daffodil', \n",
    "    'snowdrop',\n",
    "    'lily_valley',\n",
    "    'bluebell',\n",
    "    'crocus',\n",
    "    'iris',\n",
    "    'tigerlily',\n",
    "    'tulip',\n",
    "    'fritillary',\n",
    "    'sunflower',\n",
    "    'daisy',\n",
    "    'colts_foot',\n",
    "    'dandelion',\n",
    "    'cowslip',\n",
    "    'buttercup',\n",
    "    'windflower',\n",
    "    'pansy'\n",
    "]\n",
    "\n",
    "input_image_dir = 'square_images128'\n",
    "files_per_class = 80\n",
    "\n",
    "full_filenames = sorted(glob.glob(input_image_dir + '/*.jpg'))\n",
    "filenames = [os.path.basename(full) for full in full_filenames]\n",
    "\n",
    "for (class_index, class_name) in enumerate(classes):\n",
    "    os.mkdir(input_image_dir + '/' + class_name)\n",
    "    \n",
    "    from_index = files_per_class * class_index\n",
    "    to_index = files_per_class * class_index + files_per_class\n",
    "    \n",
    "    files_to_move = filenames[from_index:to_index]\n",
    "    \n",
    "    for filename in files_to_move:\n",
    "        os.rename(input_image_dir + '/' + filename,\n",
    "                  input_image_dir + '/' + class_name + '/' + filename)"
   ]
  },
  {
   "cell_type": "markdown",
   "metadata": {},
   "source": [
    "# Create `train.txt` and `test.txt` files for Caffe"
   ]
  },
  {
   "cell_type": "code",
   "execution_count": 52,
   "metadata": {
    "collapsed": false
   },
   "outputs": [
    {
     "name": "stdout",
     "output_type": "stream",
     "text": [
      "1360\n"
     ]
    }
   ],
   "source": [
    "from __future__ import division\n",
    "\n",
    "import os\n",
    "import random\n",
    "\n",
    "base_dir = 'square_images2'\n",
    "percentage_test_data = 0.20 # This means 20%\n",
    "\n",
    "output_train_file = 'train.txt'\n",
    "output_test_file = 'test.txt'\n",
    "\n",
    "\n",
    "classes = ['daffodil',  'snowdrop', 'lily_valley', 'bluebell', 'crocus', 'iris', \n",
    "           'tigerlily', 'tulip', 'fritillary', 'sunflower', 'daisy', 'colts_foot', \n",
    "           'dandelion', 'cowslip', 'buttercup', 'windflower', 'pansy']\n",
    "\n",
    "class_dict = { class_name: index for (index, class_name) in enumerate(classes)}\n",
    "\n",
    "\n",
    "folders = os.listdir(base_dir)\n",
    "folders = [folder for folder in folders if folder != '.DS_Store']\n",
    "\n",
    "file_path_class_dict = dict()\n",
    "\n",
    "for folder_name in folders:\n",
    "    # We look up the class number based on the name of the folder the image is in.\n",
    "    # This maps a folder name like 'daffodil' to a class number like 0.\n",
    "    class_index = class_dict[folder_name]\n",
    "    \n",
    "    file_names = os.listdir(base_dir + '/' + folder_name)\n",
    "    file_names = [name for name in file_names if name != '.DS_Store']\n",
    "    \n",
    "    for file_name in file_names:\n",
    "        full_file_path = os.path.abspath(folder_name + '/' + file_name)\n",
    "        file_path_class_dict[full_file_path] = class_index\n",
    "\n",
    "print(len(file_path_class_dict))\n",
    "\n",
    "file_path_class_items = file_path_class_dict.items()\n",
    "random.shuffle(file_path_class_items)\n",
    "\n",
    "num_files = len(file_path_class_items)\n",
    "num_test = int(math.floor(num_files * percentage_test_data))\n",
    "num_train = num_files - num_test\n",
    "\n",
    "# Write the train.txt file\n",
    "train_f = open(output_train_file, 'w')\n",
    "for (file_path, class_index) in file_path_class_items[:num_train]:\n",
    "    train_f.write(\"{0} {1}\\n\".format(file_path, class_index))\n",
    "train_f.close()\n",
    "\n",
    "# Write the test.txt file\n",
    "test_f = open(output_test_file, 'w')\n",
    "for (file_path, class_index) in file_path_class_items[num_train:]:\n",
    "    test_f.write(\"{0} {1}\\n\".format(file_path, class_index))\n",
    "test_f.close()"
   ]
  }
 ],
 "metadata": {
  "kernelspec": {
   "display_name": "Python 2",
   "language": "python",
   "name": "python2"
  },
  "language_info": {
   "codemirror_mode": {
    "name": "ipython",
    "version": 2
   },
   "file_extension": ".py",
   "mimetype": "text/x-python",
   "name": "python",
   "nbconvert_exporter": "python",
   "pygments_lexer": "ipython2",
   "version": "2.7.10"
  }
 },
 "nbformat": 4,
 "nbformat_minor": 0
}
