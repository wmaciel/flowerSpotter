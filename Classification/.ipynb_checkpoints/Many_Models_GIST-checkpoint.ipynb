{
 "cells": [
  {
   "cell_type": "markdown",
   "metadata": {},
   "source": [
    "# Classification using GIST Features"
   ]
  },
  {
   "cell_type": "markdown",
   "metadata": {},
   "source": [
    "## Initial Setup"
   ]
  },
  {
   "cell_type": "code",
   "execution_count": 1,
   "metadata": {
    "collapsed": false
   },
   "outputs": [],
   "source": [
    "from __future__ import division\n",
    "from PIL import Image\n",
    "import os\n",
    "import numpy as np\n",
    "import matplotlib\n",
    "import matplotlib.pyplot as plt\n",
    "\n",
    "import gist\n",
    "import imageutils\n",
    "\n",
    "%matplotlib inline\n",
    "plt.rcParams['figure.figsize'] = (10.0, 8.0) # set default size of plots\n",
    "plt.rcParams['image.interpolation'] = 'nearest'\n",
    "plt.rcParams['image.cmap'] = 'gray'\n",
    "\n",
    "%load_ext autoreload\n",
    "%autoreload 2"
   ]
  },
  {
   "cell_type": "markdown",
   "metadata": {},
   "source": [
    "### Load Images into a Matrix"
   ]
  },
  {
   "cell_type": "code",
   "execution_count": 2,
   "metadata": {
    "collapsed": false
   },
   "outputs": [
    {
     "name": "stdout",
     "output_type": "stream",
     "text": [
      "(1020, 128, 128, 3)\n",
      "['bluebell', 'buttercup', 'colts_foot', 'cowslip', 'crocus', 'daffodil', 'daisy', 'dandelion', 'fritillary', 'iris', 'lily_valley', 'pansy', 'snowdrop', 'sunflower', 'tigerlily', 'tulip', 'windflower']\n"
     ]
    }
   ],
   "source": [
    "base_dir = 'square_images128_traintest'\n",
    "#(X_all, y_all, classes, class_dict) = imageutils.load_data(base_dir)\n",
    "(X_train, y_train, classes, class_dict) = imageutils.load_data(base_dir + '/train')\n",
    "(X_test, y_test, _, _) = imageutils.load_data(base_dir + '/test')\n",
    "image_height = X_train.shape[1]\n",
    "image_width = X_train.shape[2]\n",
    "print(X_train.shape)\n",
    "print(classes)"
   ]
  },
  {
   "cell_type": "markdown",
   "metadata": {},
   "source": [
    "### Define feature extraction functions"
   ]
  },
  {
   "cell_type": "code",
   "execution_count": 3,
   "metadata": {
    "collapsed": false
   },
   "outputs": [],
   "source": [
    "def extract_all_gist_features(X):\n",
    "    num_examples = X.shape[0]\n",
    "    features = []\n",
    "    for index in range(num_examples):\n",
    "        feature_vec = gist.extract(X[index].astype('uint8'))\n",
    "        features.append(feature_vec)\n",
    "    \n",
    "    X_features = np.vstack(features)\n",
    "    return X_features"
   ]
  },
  {
   "cell_type": "code",
   "execution_count": 4,
   "metadata": {
    "collapsed": true
   },
   "outputs": [],
   "source": [
    "def extract_gist(I):\n",
    "    return gist.extract(I.astype('uint8'))"
   ]
  },
  {
   "cell_type": "code",
   "execution_count": 5,
   "metadata": {
    "collapsed": false
   },
   "outputs": [],
   "source": [
    "def tiny_image(image_array, width=16, height=16):\n",
    "    I = Image.fromarray(image_array.astype('uint8'))\n",
    "    I_tiny = I.resize((width, height))\n",
    "    I_tiny_array = np.array(I_tiny).astype('float')\n",
    "    return np.reshape(I_tiny_array, width * height * 3)"
   ]
  },
  {
   "cell_type": "code",
   "execution_count": 6,
   "metadata": {
    "collapsed": true
   },
   "outputs": [],
   "source": [
    "def color_histogram_rgb(image_array):\n",
    "    h, edges = np.histogramdd(image_array.reshape(-1,3), 8, normed=True, range=[(0,255), (0,255), (0,255)])\n",
    "    return h.flatten()"
   ]
  },
  {
   "cell_type": "code",
   "execution_count": 7,
   "metadata": {
    "collapsed": false
   },
   "outputs": [
    {
     "data": {
      "text/plain": [
       "(512,)"
      ]
     },
     "execution_count": 7,
     "metadata": {},
     "output_type": "execute_result"
    }
   ],
   "source": [
    "color_histogram_rgb(X_train[0]).shape"
   ]
  },
  {
   "cell_type": "code",
   "execution_count": 8,
   "metadata": {
    "collapsed": false
   },
   "outputs": [],
   "source": [
    "def extract_features(X, feature_functions):\n",
    "    num_examples = X.shape[0]\n",
    "    feature_rows = []\n",
    "    for index in range(num_examples):\n",
    "        I = X[index]\n",
    "        features = []\n",
    "        for feature_func in feature_functions:\n",
    "            feature_vec = feature_func(I)\n",
    "            features.append(feature_vec)\n",
    "        \n",
    "        example_features_row_vec = np.hstack(features)\n",
    "        feature_rows.append(example_features_row_vec)\n",
    "    \n",
    "    X_features = np.vstack(feature_rows)\n",
    "    return X_features"
   ]
  },
  {
   "cell_type": "markdown",
   "metadata": {},
   "source": [
    "### Extract features and concatenates them"
   ]
  },
  {
   "cell_type": "code",
   "execution_count": 12,
   "metadata": {
    "collapsed": false
   },
   "outputs": [
    {
     "name": "stdout",
     "output_type": "stream",
     "text": [
      "(1020, 1829)\n"
     ]
    }
   ],
   "source": [
    "from features import hog_feature, color_histogram_hsv\n",
    "\n",
    "num_color_bins = 100 # Number of bins in the color histogram\n",
    "#feature_fns = [extract_gist, hog_feature, lambda img: color_histogram_hsv(img, nbin=num_color_bins)]\n",
    "#feature_fns = [extract_gist, lambda img: color_histogram_hsv(img, nbin=num_color_bins)]\n",
    "#feature_fns = [extract_gist]\n",
    "#feature_fns = [lambda img: color_histogram_hsv(img, nbin=num_color_bins)]\n",
    "#feature_fns = [extract_gist, tiny_image]\n",
    "feature_fns = [extract_gist, tiny_image, lambda img: color_histogram_hsv(img, nbin=num_color_bins)]\n",
    "\n",
    "X_train_features = extract_features(X_train, feature_fns)\n",
    "X_test_features = extract_features(X_test, feature_fns)\n",
    "\n",
    "# Preprocessing: Subtract the mean feature\n",
    "mean_features = np.mean(X_train_features, axis=0)\n",
    "mean_features = np.expand_dims(mean_features, axis=0)\n",
    "X_train_features -= mean_features\n",
    "X_test_features -= mean_features\n",
    "\n",
    "# Preprocessing: Divide by standard deviation. This ensures that each feature\n",
    "# has roughly the same scale.\n",
    "std_features = np.std(X_train_features, axis=0)\n",
    "std_features = np.expand_dims(std_features, axis=0)\n",
    "X_train_features /= std_features\n",
    "X_test_features /= std_features\n",
    "\n",
    "# Preprocessing: Add a bias dimension\n",
    "X_train_features = np.hstack([X_train_features, np.ones((X_train_features.shape[0], 1))])\n",
    "X_test_features = np.hstack([X_test_features, np.ones((X_test_features.shape[0], 1))])\n",
    "\n",
    "print(X_train_features.shape)"
   ]
  },
  {
   "cell_type": "markdown",
   "metadata": {},
   "source": [
    "## Training models\n",
    "### Naïve Bayes"
   ]
  },
  {
   "cell_type": "code",
   "execution_count": 34,
   "metadata": {
    "collapsed": false
   },
   "outputs": [
    {
     "name": "stdout",
     "output_type": "stream",
     "text": [
      "Naive Bayes accuracy on full training set: 0.561765\n"
     ]
    }
   ],
   "source": [
    "from sklearn.naive_bayes import GaussianNB\n",
    "\n",
    "gnb = GaussianNB()\n",
    "y_pred = gnb.fit(X_train_features, y_train).predict(X_test_features)\n",
    "print('Naive Bayes accuracy on full training set: %f' % (np.mean(y_pred == y_test)))"
   ]
  },
  {
   "cell_type": "code",
   "execution_count": 35,
   "metadata": {
    "collapsed": false
   },
   "outputs": [
    {
     "name": "stdout",
     "output_type": "stream",
     "text": [
      "Average Naive Bayes accuracy: 0.505882\n"
     ]
    }
   ],
   "source": [
    "from sklearn.cross_validation import KFold\n",
    "from sklearn.cross_validation import cross_val_score\n",
    "\n",
    "num_examples = X_train_features.shape[0]\n",
    "cv = KFold(num_examples, n_folds=10, shuffle=True, random_state=None)\n",
    "\n",
    "gnb_cv_accuracies = cross_val_score(gnb, X_train_features, y_train, cv=cv, n_jobs=7)\n",
    "print('Average Naive Bayes accuracy: %f' % gnb_cv_accuracies.mean())"
   ]
  },
  {
   "cell_type": "markdown",
   "metadata": {},
   "source": [
    "### Decision Tree"
   ]
  },
  {
   "cell_type": "code",
   "execution_count": 36,
   "metadata": {
    "collapsed": false
   },
   "outputs": [
    {
     "name": "stdout",
     "output_type": "stream",
     "text": [
      "Decision Tree accuracy: 0.414706\n"
     ]
    }
   ],
   "source": [
    "from sklearn.tree import DecisionTreeClassifier\n",
    "\n",
    "dtc = DecisionTreeClassifier(min_samples_split=10)\n",
    "y_pred = dtc.fit(X_train_features, y_train).predict(X_test_features)\n",
    "print('Decision Tree accuracy: %f' % (np.mean(y_pred == y_test)))"
   ]
  },
  {
   "cell_type": "code",
   "execution_count": 58,
   "metadata": {
    "collapsed": false
   },
   "outputs": [
    {
     "name": "stdout",
     "output_type": "stream",
     "text": [
      "Average accuracy with 2 : 0.355882352941\n",
      "Average accuracy with 4 : 0.36862745098\n",
      "Average accuracy with 8 : 0.371568627451\n",
      "Average accuracy with 16 : 0.378431372549\n",
      "Average accuracy with 32 : 0.377450980392\n",
      "Average accuracy with 64 : 0.367647058824\n",
      "Average accuracy with 128 : 0.275490196078\n",
      "Average accuracy with 256 : 0.212745098039\n",
      "Average accuracy with 512 : 0.122549019608\n"
     ]
    }
   ],
   "source": [
    "from sklearn.cross_validation import KFold\n",
    "from sklearn.cross_validation import cross_val_score\n",
    "\n",
    "#test_values = [2, 4, 8, 10, 12, 14, 16, 20, 22, 24, 26, 28, 30, 32, 34, 36, 38, 40]\n",
    "test_values = [2, 4, 8, 16, 32, 64, 128, 256, 512]\n",
    "\n",
    "num_examples = X_train_features.shape[0]\n",
    "cv = KFold(num_examples, n_folds=10, shuffle=True, random_state=None)\n",
    "\n",
    "dtc_avg_accuracies = []\n",
    "for v in test_values:\n",
    "    dtc = DecisionTreeClassifier(min_samples_split=v)\n",
    "    dtc_cv_accuracies = cross_val_score(dtc, X_train_features, y_train, cv=cv, n_jobs=7)\n",
    "    dtc_cv_acc_mean = dtc_cv_accuracies.mean()\n",
    "    dtc_avg_accuracies.append(dtc_cv_acc_mean)\n",
    "    print 'Average accuracy with ' + str(v) + ' : ' + str(dtc_cv_acc_mean)\n",
    "    "
   ]
  },
  {
   "cell_type": "code",
   "execution_count": 59,
   "metadata": {
    "collapsed": false
   },
   "outputs": [
    {
     "data": {
      "image/png": "[encoded data removed]",
      "text/plain": [
       "<matplotlib.figure.Figure at 0x111e4ecd0>"
      ]
     },
     "metadata": {},
     "output_type": "display_data"
    }
   ],
   "source": [
    "import matplotlib.pyplot as plt\n",
    "\n",
    "plt.plot(test_values, dtc_avg_accuracies)\n",
    "plt.ylabel('Average accuracy')\n",
    "plt.show()"
   ]
  },
  {
   "cell_type": "code",
   "execution_count": 60,
   "metadata": {
    "collapsed": false
   },
   "outputs": [
    {
     "name": "stdout",
     "output_type": "stream",
     "text": [
      "Decision Tree accuracy: 0.711765\n"
     ]
    }
   ],
   "source": [
    "from sklearn.ensemble import RandomForestClassifier\n",
    "\n",
    "rfc = RandomForestClassifier(n_estimators=1024, min_samples_split=2, n_jobs=-1)\n",
    "y_pred = rfc.fit(X_train_features, y_train).predict(X_test_features)\n",
    "print('Random Forest accuracy: %f' % (np.mean(y_pred == y_test)))"
   ]
  },
  {
   "cell_type": "code",
   "execution_count": 52,
   "metadata": {
    "collapsed": false
   },
   "outputs": [
    {
     "name": "stdout",
     "output_type": "stream",
     "text": [
      "Average accuracy with 1 : 0.280392156863\n",
      "Average accuracy with 2 : 0.275490196078\n",
      "Average accuracy with 4 : 0.336274509804\n",
      "Average accuracy with 8 : 0.423529411765\n",
      "Average accuracy with 16 : 0.479411764706\n",
      "Average accuracy with 32 : 0.536274509804\n",
      "Average accuracy with 64 : 0.571568627451\n",
      "Average accuracy with 128 : 0.598039215686\n",
      "Average accuracy with 256 : 0.602941176471\n",
      "Average accuracy with 512 : 0.616666666667\n",
      "Average accuracy with 1024 : 0.617647058824\n",
      "Average accuracy with 2048 : 0.616666666667\n"
     ]
    }
   ],
   "source": [
    "from sklearn.cross_validation import KFold\n",
    "from sklearn.cross_validation import cross_val_score\n",
    "\n",
    "test_values = [1, 2, 4, 8, 16, 32, 64, 128, 256, 512, 1024, 2048]\n",
    "\n",
    "num_examples = X_train_features.shape[0]\n",
    "cv = KFold(num_examples, n_folds=10, shuffle=True, random_state=None)\n",
    "\n",
    "rfc_avg_accuracies = []\n",
    "for v in test_values:\n",
    "    rfc = RandomForestClassifier(n_estimators=v, min_samples_split=2, n_jobs=-1)\n",
    "    rfc_cv_accuracies = cross_val_score(rfc, X_train_features, y_train, cv=cv, n_jobs=7)\n",
    "    rfc_cv_acc_mean = rfc_cv_accuracies.mean()\n",
    "    rfc_avg_accuracies.append(rfc_cv_acc_mean)\n",
    "    print 'Average accuracy with ' + str(v) + ' : ' + str(rfc_cv_acc_mean)\n",
    "    "
   ]
  },
  {
   "cell_type": "code",
   "execution_count": 54,
   "metadata": {
    "collapsed": false
   },
   "outputs": [
    {
     "data": {
      "image/png": "[encoded data removed]",
      "text/plain": [
       "<matplotlib.figure.Figure at 0x10b4b4090>"
      ]
     },
     "metadata": {},
     "output_type": "display_data"
    }
   ],
   "source": [
    "import matplotlib.pyplot as plt\n",
    "\n",
    "plt.plot(test_values, rfc_avg_accuracies)\n",
    "plt.ylabel('Average accuracy')\n",
    "plt.show()"
   ]
  },
  {
   "cell_type": "code",
   "execution_count": 64,
   "metadata": {
    "collapsed": false
   },
   "outputs": [
    {
     "name": "stdout",
     "output_type": "stream",
     "text": [
      "Average accuracy with 2 : 0.611764705882\n"
     ]
    },
    {
     "ename": "KeyboardInterrupt",
     "evalue": "",
     "output_type": "error",
     "traceback": [
      "\u001b[0;31m---------------------------------------------------------------------------\u001b[0m",
      "\u001b[0;31mKeyboardInterrupt\u001b[0m                         Traceback (most recent call last)",
      "\u001b[0;32m<ipython-input-64-f0b5e41c89cf>\u001b[0m in \u001b[0;36m<module>\u001b[0;34m()\u001b[0m\n\u001b[1;32m     10\u001b[0m \u001b[0;32mfor\u001b[0m \u001b[0mv\u001b[0m \u001b[0;32min\u001b[0m \u001b[0mtest_values\u001b[0m\u001b[0;34m:\u001b[0m\u001b[0;34m\u001b[0m\u001b[0m\n\u001b[1;32m     11\u001b[0m     \u001b[0mrfc\u001b[0m \u001b[0;34m=\u001b[0m \u001b[0mRandomForestClassifier\u001b[0m\u001b[0;34m(\u001b[0m\u001b[0mn_estimators\u001b[0m\u001b[0;34m=\u001b[0m\u001b[0;36m512\u001b[0m\u001b[0;34m,\u001b[0m \u001b[0mmin_samples_split\u001b[0m\u001b[0;34m=\u001b[0m\u001b[0mv\u001b[0m\u001b[0;34m,\u001b[0m \u001b[0mn_jobs\u001b[0m\u001b[0;34m=\u001b[0m\u001b[0;34m-\u001b[0m\u001b[0;36m1\u001b[0m\u001b[0;34m)\u001b[0m\u001b[0;34m\u001b[0m\u001b[0m\n\u001b[0;32m---> 12\u001b[0;31m     \u001b[0mrfc_cv_accuracies\u001b[0m \u001b[0;34m=\u001b[0m \u001b[0mcross_val_score\u001b[0m\u001b[0;34m(\u001b[0m\u001b[0mrfc\u001b[0m\u001b[0;34m,\u001b[0m \u001b[0mX_train_features\u001b[0m\u001b[0;34m,\u001b[0m \u001b[0my_train\u001b[0m\u001b[0;34m,\u001b[0m \u001b[0mcv\u001b[0m\u001b[0;34m=\u001b[0m\u001b[0mcv\u001b[0m\u001b[0;34m,\u001b[0m \u001b[0mn_jobs\u001b[0m\u001b[0;34m=\u001b[0m\u001b[0;36m7\u001b[0m\u001b[0;34m)\u001b[0m\u001b[0;34m\u001b[0m\u001b[0m\n\u001b[0m\u001b[1;32m     13\u001b[0m     \u001b[0mrfc_cv_acc_mean\u001b[0m \u001b[0;34m=\u001b[0m \u001b[0mrfc_cv_accuracies\u001b[0m\u001b[0;34m.\u001b[0m\u001b[0mmean\u001b[0m\u001b[0;34m(\u001b[0m\u001b[0;34m)\u001b[0m\u001b[0;34m\u001b[0m\u001b[0m\n\u001b[1;32m     14\u001b[0m     \u001b[0mrfc_avg_accuracies\u001b[0m\u001b[0;34m.\u001b[0m\u001b[0mappend\u001b[0m\u001b[0;34m(\u001b[0m\u001b[0mrfc_cv_acc_mean\u001b[0m\u001b[0;34m)\u001b[0m\u001b[0;34m\u001b[0m\u001b[0m\n",
      "\u001b[0;32m//anaconda/lib/python2.7/site-packages/sklearn/cross_validation.pyc\u001b[0m in \u001b[0;36mcross_val_score\u001b[0;34m(estimator, X, y, scoring, cv, n_jobs, verbose, fit_params, pre_dispatch)\u001b[0m\n\u001b[1;32m   1359\u001b[0m                                               \u001b[0mtrain\u001b[0m\u001b[0;34m,\u001b[0m \u001b[0mtest\u001b[0m\u001b[0;34m,\u001b[0m \u001b[0mverbose\u001b[0m\u001b[0;34m,\u001b[0m \u001b[0mNone\u001b[0m\u001b[0;34m,\u001b[0m\u001b[0;34m\u001b[0m\u001b[0m\n\u001b[1;32m   1360\u001b[0m                                               fit_params)\n\u001b[0;32m-> 1361\u001b[0;31m                       for train, test in cv)\n\u001b[0m\u001b[1;32m   1362\u001b[0m     \u001b[0;32mreturn\u001b[0m \u001b[0mnp\u001b[0m\u001b[0;34m.\u001b[0m\u001b[0marray\u001b[0m\u001b[0;34m(\u001b[0m\u001b[0mscores\u001b[0m\u001b[0;34m)\u001b[0m\u001b[0;34m[\u001b[0m\u001b[0;34m:\u001b[0m\u001b[0;34m,\u001b[0m \u001b[0;36m0\u001b[0m\u001b[0;34m]\u001b[0m\u001b[0;34m\u001b[0m\u001b[0m\n\u001b[1;32m   1363\u001b[0m \u001b[0;34m\u001b[0m\u001b[0m\n",
      "\u001b[0;32m//anaconda/lib/python2.7/site-packages/sklearn/externals/joblib/parallel.pyc\u001b[0m in \u001b[0;36m__call__\u001b[0;34m(self, iterable)\u001b[0m\n\u001b[1;32m    664\u001b[0m                 \u001b[0;31m# consumption.\u001b[0m\u001b[0;34m\u001b[0m\u001b[0;34m\u001b[0m\u001b[0m\n\u001b[1;32m    665\u001b[0m                 \u001b[0mself\u001b[0m\u001b[0;34m.\u001b[0m\u001b[0m_iterating\u001b[0m \u001b[0;34m=\u001b[0m \u001b[0mFalse\u001b[0m\u001b[0;34m\u001b[0m\u001b[0m\n\u001b[0;32m--> 666\u001b[0;31m             \u001b[0mself\u001b[0m\u001b[0;34m.\u001b[0m\u001b[0mretrieve\u001b[0m\u001b[0;34m(\u001b[0m\u001b[0;34m)\u001b[0m\u001b[0;34m\u001b[0m\u001b[0m\n\u001b[0m\u001b[1;32m    667\u001b[0m             \u001b[0;31m# Make sure that we get a last message telling us we are done\u001b[0m\u001b[0;34m\u001b[0m\u001b[0;34m\u001b[0m\u001b[0m\n\u001b[1;32m    668\u001b[0m             \u001b[0melapsed_time\u001b[0m \u001b[0;34m=\u001b[0m \u001b[0mtime\u001b[0m\u001b[0;34m.\u001b[0m\u001b[0mtime\u001b[0m\u001b[0;34m(\u001b[0m\u001b[0;34m)\u001b[0m \u001b[0;34m-\u001b[0m \u001b[0mself\u001b[0m\u001b[0;34m.\u001b[0m\u001b[0m_start_time\u001b[0m\u001b[0;34m\u001b[0m\u001b[0m\n",
      "\u001b[0;32m//anaconda/lib/python2.7/site-packages/sklearn/externals/joblib/parallel.pyc\u001b[0m in \u001b[0;36mretrieve\u001b[0;34m(self)\u001b[0m\n\u001b[1;32m    530\u001b[0m                             \u001b[0;31m# We can now allow subprocesses again\u001b[0m\u001b[0;34m\u001b[0m\u001b[0;34m\u001b[0m\u001b[0m\n\u001b[1;32m    531\u001b[0m                             \u001b[0mos\u001b[0m\u001b[0;34m.\u001b[0m\u001b[0menviron\u001b[0m\u001b[0;34m.\u001b[0m\u001b[0mpop\u001b[0m\u001b[0;34m(\u001b[0m\u001b[0;34m'__JOBLIB_SPAWNED_PARALLEL__'\u001b[0m\u001b[0;34m,\u001b[0m \u001b[0;36m0\u001b[0m\u001b[0;34m)\u001b[0m\u001b[0;34m\u001b[0m\u001b[0m\n\u001b[0;32m--> 532\u001b[0;31m                         \u001b[0;32mraise\u001b[0m \u001b[0mexception\u001b[0m\u001b[0;34m\u001b[0m\u001b[0m\n\u001b[0m\u001b[1;32m    533\u001b[0m                     \u001b[0;32melif\u001b[0m \u001b[0misinstance\u001b[0m\u001b[0;34m(\u001b[0m\u001b[0mexception\u001b[0m\u001b[0;34m,\u001b[0m \u001b[0mTransportableException\u001b[0m\u001b[0;34m)\u001b[0m\u001b[0;34m:\u001b[0m\u001b[0;34m\u001b[0m\u001b[0m\n\u001b[1;32m    534\u001b[0m                         \u001b[0;31m# Capture exception to add information on the local\u001b[0m\u001b[0;34m\u001b[0m\u001b[0;34m\u001b[0m\u001b[0m\n",
      "\u001b[0;31mKeyboardInterrupt\u001b[0m: "
     ]
    }
   ],
   "source": [
    "from sklearn.cross_validation import KFold\n",
    "from sklearn.cross_validation import cross_val_score\n",
    "\n",
    "test_values = [2, 4, 8, 16, 32, 64, 128]\n",
    "\n",
    "num_examples = X_train_features.shape[0]\n",
    "cv = KFold(num_examples, n_folds=10, shuffle=True, random_state=None)\n",
    "\n",
    "rfc_avg_accuracies = []\n",
    "for v in test_values:\n",
    "    rfc = RandomForestClassifier(n_estimators=512, min_samples_split=v, n_jobs=-1)\n",
    "    rfc_cv_accuracies = cross_val_score(rfc, X_train_features, y_train, cv=cv, n_jobs=7)\n",
    "    rfc_cv_acc_mean = rfc_cv_accuracies.mean()\n",
    "    rfc_avg_accuracies.append(rfc_cv_acc_mean)\n",
    "    print 'Average accuracy with ' + str(v) + ' : ' + str(rfc_cv_acc_mean)"
   ]
  },
  {
   "cell_type": "code",
   "execution_count": 63,
   "metadata": {
    "collapsed": false
   },
   "outputs": [
    {
     "data": {
      "image/png": "[encoded data removed]",
      "text/plain": [
       "<matplotlib.figure.Figure at 0x111ed17d0>"
      ]
     },
     "metadata": {},
     "output_type": "display_data"
    }
   ],
   "source": [
    "import matplotlib.pyplot as plt\n",
    "\n",
    "plt.plot(test_values, rfc_avg_accuracies)\n",
    "plt.ylabel('Average accuracy')\n",
    "plt.show()"
   ]
  },
  {
   "cell_type": "code",
   "execution_count": 75,
   "metadata": {
    "collapsed": false
   },
   "outputs": [
    {
     "name": "stdout",
     "output_type": "stream",
     "text": [
      "Gradient Boosting accuracy: 0.682353\n"
     ]
    }
   ],
   "source": [
    "from sklearn.ensemble import GradientBoostingClassifier\n",
    "\n",
    "gbc = GradientBoostingClassifier(learning_rate=0.01, n_estimators=512, max_features='auto')\n",
    "y_pred = gbc.fit(X_train_features, y_train).predict(X_test_features)\n",
    "print('Gradient Boosting accuracy: %f' % (np.mean(y_pred == y_test)))"
   ]
  },
  {
   "cell_type": "code",
   "execution_count": 79,
   "metadata": {
    "collapsed": false
   },
   "outputs": [
    {
     "name": "stdout",
     "output_type": "stream",
     "text": [
      "Average accuracy with 4, 0.05 : 0.406862745098\n",
      "Average accuracy with 4, 0.1 : 0.401960784314\n",
      "Average accuracy with 4, 0.2 : 0.390196078431\n",
      "Average accuracy with 4, 0.4 : 0.332352941176\n",
      "Average accuracy with 8, 0.05 : 0.471568627451\n",
      "Average accuracy with 8, 0.1 : 0.46862745098\n",
      "Average accuracy with 8, 0.2 : 0.455882352941\n",
      "Average accuracy with 8, 0.4 : 0.347058823529\n",
      "Average accuracy with 16, 0.05 : 0.528431372549\n",
      "Average accuracy with 16, 0.1 : 0.510784313725\n",
      "Average accuracy with 16, 0.2 : 0.485294117647\n",
      "Average accuracy with 16, 0.4 : 0.395098039216\n",
      "Average accuracy with 32, 0.05 : 0.553921568627\n",
      "Average accuracy with 32, 0.1 : 0.536274509804\n",
      "Average accuracy with 32, 0.2 : 0.508823529412\n",
      "Average accuracy with 32, 0.4 : 0.436274509804\n",
      "Average accuracy with 64, 0.05 : 0.589215686275\n",
      "Average accuracy with 64, 0.1 : 0.570588235294\n",
      "Average accuracy with 64, 0.2 : 0.556862745098\n",
      "Average accuracy with 64, 0.4 : 0.48431372549\n",
      "Average accuracy with 128, 0.05 : 0.614705882353\n",
      "Average accuracy with 128, 0.1 : 0.612745098039\n",
      "Average accuracy with 128, 0.2 : 0.602941176471\n",
      "Average accuracy with 128, 0.4 : 0.492156862745\n",
      "Average accuracy with 256, 0.05 : 0.621568627451\n",
      "Average accuracy with 256, 0.1 : 0.616666666667\n",
      "Average accuracy with 256, 0.2 : 0.592156862745\n",
      "Average accuracy with 256, 0.4 : 0.493137254902\n",
      "Average accuracy with 512, 0.05 : 0.648039215686\n",
      "Average accuracy with 512, 0.1 : 0.620588235294\n",
      "Average accuracy with 512, 0.2 : 0.604901960784\n",
      "Average accuracy with 512, 0.4 : 0.487254901961\n"
     ]
    }
   ],
   "source": [
    "from sklearn.cross_validation import KFold\n",
    "from sklearn.cross_validation import cross_val_score\n",
    "\n",
    "n_values = [4, 8, 16, 32, 64, 128, 256, 512]\n",
    "rate_values = [0.05, 0.1, 0.2, 0.4]\n",
    "\n",
    "num_examples = X_train_features.shape[0]\n",
    "cv = KFold(num_examples, n_folds=10, shuffle=True, random_state=None)\n",
    "\n",
    "gbc_avg_accuracies = []\n",
    "for n in n_values:\n",
    "    n_avgs = []\n",
    "    for r in rate_values:\n",
    "        gbc = GradientBoostingClassifier(learning_rate=r, n_estimators=n, max_features='auto')\n",
    "        gbc_cv_accuracies = cross_val_score(gbc, X_train_features, y_train, cv=cv, n_jobs=-1)\n",
    "        gbc_cv_acc_mean = gbc_cv_accuracies.mean()\n",
    "        n_avgs.append(gbc_cv_acc_mean)\n",
    "        print 'Average accuracy with ' + str(n) + ', ' + str(r) + ' : ' + str(gbc_cv_acc_mean)\n",
    "    gbc_avg_accuracies.append(n_avgs)"
   ]
  },
  {
   "cell_type": "code",
   "execution_count": 84,
   "metadata": {
    "collapsed": false
   },
   "outputs": [
    {
     "data": {
      "image/png": "[encoded data removed]",
      "text/plain": [
       "<matplotlib.figure.Figure at 0x107551410>"
      ]
     },
     "metadata": {},
     "output_type": "display_data"
    }
   ],
   "source": [
    "import matplotlib.pyplot as plt\n",
    "\n",
    "for i, n in enumerate(gbc_avg_accuracies):\n",
    "    plt.plot(rate_values, n, label=str(i))\n",
    "\n",
    "plt.legend()\n",
    "plt.ylabel('Average accuracy')\n",
    "plt.show()"
   ]
  },
  {
   "cell_type": "code",
   "execution_count": 89,
   "metadata": {
    "collapsed": false
   },
   "outputs": [
    {
     "name": "stdout",
     "output_type": "stream",
     "text": [
      "Ada Boosting accuracy: 0.411765\n"
     ]
    }
   ],
   "source": [
    "from sklearn.ensemble import AdaBoostClassifier\n",
    "\n",
    "abc = AdaBoostClassifier(algorithm='SAMME', base_estimator=dtc, n_estimators=50, learning_rate=1.0)\n",
    "y_pred = abc.fit(X_train_features, y_train).predict(X_test_features)\n",
    "print('Ada Boosting accuracy: %f' % (np.mean(y_pred == y_test)))"
   ]
  },
  {
   "cell_type": "code",
   "execution_count": 11,
   "metadata": {
    "collapsed": false
   },
   "outputs": [
    {
     "name": "stdout",
     "output_type": "stream",
     "text": [
      "accuracy: 0.708824\n"
     ]
    }
   ],
   "source": [
    "from sklearn.svm import SVC\n",
    "\n",
    "svm = SVC(kernel='linear', class_weight='auto')\n",
    "svm.fit(X_train_features, y_train)\n",
    "\n",
    "y_pred = svm.predict(X_test_features)\n",
    "print('SVM accuracy: %f' % (np.mean(y_pred == y_test)))"
   ]
  },
  {
   "cell_type": "code",
   "execution_count": null,
   "metadata": {
    "collapsed": false,
    "scrolled": false
   },
   "outputs": [],
   "source": [
    "from sklearn.cross_validation import KFold\n",
    "from sklearn.cross_validation import cross_val_score\n",
    "\n",
    "num_examples = X_train_features.shape[0]\n",
    "cv = KFold(num_examples, n_folds=10, shuffle=True, random_state=None)\n",
    "\n",
    "svm_cv_accuracies = cross_val_score(svm, X_train_features, y_train, cv=cv, n_jobs=7)\n",
    "print(svm_cv_accuracies)"
   ]
  },
  {
   "cell_type": "code",
   "execution_count": null,
   "metadata": {
    "collapsed": true
   },
   "outputs": [],
   "source": []
  }
 ],
 "metadata": {
  "kernelspec": {
   "display_name": "Python 2",
   "language": "python",
   "name": "python2"
  },
  "language_info": {
   "codemirror_mode": {
    "name": "ipython",
    "version": 2
   },
   "file_extension": ".py",
   "mimetype": "text/x-python",
   "name": "python",
   "nbconvert_exporter": "python",
   "pygments_lexer": "ipython2",
   "version": "2.7.10"
  }
 },
 "nbformat": 4,
 "nbformat_minor": 0
}
