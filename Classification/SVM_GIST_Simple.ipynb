{
 "cells": [
  {
   "cell_type": "markdown",
   "metadata": {},
   "source": [
    "# SVM Classification using Only GIST Features"
   ]
  },
  {
   "cell_type": "markdown",
   "metadata": {},
   "source": [
    "## Initial Setup"
   ]
  },
  {
   "cell_type": "code",
   "execution_count": 1,
   "metadata": {
    "collapsed": false
   },
   "outputs": [],
   "source": [
    "from __future__ import division\n",
    "from PIL import Image\n",
    "import os\n",
    "import numpy as np\n",
    "import matplotlib\n",
    "import matplotlib.pyplot as plt\n",
    "\n",
    "import gist\n",
    "import imageutils\n",
    "\n",
    "%matplotlib inline\n",
    "plt.rcParams['figure.figsize'] = (10.0, 8.0) # set default size of plots\n",
    "plt.rcParams['image.interpolation'] = 'nearest'\n",
    "plt.rcParams['image.cmap'] = 'gray'\n",
    "\n",
    "%load_ext autoreload\n",
    "%autoreload 2"
   ]
  },
  {
   "cell_type": "markdown",
   "metadata": {},
   "source": [
    "## Load Images into a Matrix"
   ]
  },
  {
   "cell_type": "code",
   "execution_count": 2,
   "metadata": {
    "collapsed": false
   },
   "outputs": [
    {
     "name": "stdout",
     "output_type": "stream",
     "text": [
      "(1020, 128, 128, 3)\n",
      "['bluebell', 'buttercup', 'colts_foot', 'cowslip', 'crocus', 'daffodil', 'daisy', 'dandelion', 'fritillary', 'iris', 'lily_valley', 'pansy', 'snowdrop', 'sunflower', 'tigerlily', 'tulip', 'windflower']\n"
     ]
    }
   ],
   "source": [
    "base_dir = 'square_images128_traintest'\n",
    "#(X_all, y_all, classes, class_dict) = imageutils.load_data(base_dir)\n",
    "(X_train, y_train, classes, class_dict) = imageutils.load_data(base_dir + '/train')\n",
    "(X_test, y_test, _, _) = imageutils.load_data(base_dir + '/test')\n",
    "image_height = X_train.shape[1]\n",
    "image_width = X_train.shape[2]\n",
    "print(X_train.shape)\n",
    "print(classes)"
   ]
  },
  {
   "cell_type": "code",
   "execution_count": 3,
   "metadata": {
    "collapsed": false
   },
   "outputs": [],
   "source": [
    "def extract_all_gist_features(X):\n",
    "    num_examples = X.shape[0]\n",
    "    features = []\n",
    "    for index in range(num_examples):\n",
    "        feature_vec = gist.extract(X[index].astype('uint8'))\n",
    "        features.append(feature_vec)\n",
    "    \n",
    "    X_features = np.vstack(features)\n",
    "    return X_features"
   ]
  },
  {
   "cell_type": "code",
   "execution_count": 4,
   "metadata": {
    "collapsed": true
   },
   "outputs": [],
   "source": [
    "def extract_gist(I):\n",
    "    return gist.extract(I.astype('uint8'))"
   ]
  },
  {
   "cell_type": "code",
   "execution_count": 5,
   "metadata": {
    "collapsed": false
   },
   "outputs": [],
   "source": [
    "def tiny_image(image_array, width=16, height=16):\n",
    "    I = Image.fromarray(image_array.astype('uint8'))\n",
    "    I_tiny = I.resize((width, height))\n",
    "    I_tiny_array = np.array(I_tiny).astype('float')\n",
    "    return np.reshape(I_tiny_array, width * height * 3)"
   ]
  },
  {
   "cell_type": "code",
   "execution_count": 6,
   "metadata": {
    "collapsed": true
   },
   "outputs": [],
   "source": [
    "def color_histogram_rgb(image_array):\n",
    "    h, edges = np.histogramdd(image_array.reshape(-1,3), 8, normed=True, range=[(0,255), (0,255), (0,255)])\n",
    "    return h.flatten()"
   ]
  },
  {
   "cell_type": "code",
   "execution_count": 7,
   "metadata": {
    "collapsed": false
   },
   "outputs": [
    {
     "data": {
      "text/plain": [
       "(512,)"
      ]
     },
     "execution_count": 7,
     "metadata": {},
     "output_type": "execute_result"
    }
   ],
   "source": [
    "color_histogram_rgb(X_train[0]).shape"
   ]
  },
  {
   "cell_type": "code",
   "execution_count": 8,
   "metadata": {
    "collapsed": false
   },
   "outputs": [],
   "source": [
    "def extract_features(X, feature_functions):\n",
    "    num_examples = X.shape[0]\n",
    "    feature_rows = []\n",
    "    for index in range(num_examples):\n",
    "        I = X[index]\n",
    "        features = []\n",
    "        for feature_func in feature_functions:\n",
    "            feature_vec = feature_func(I)\n",
    "            features.append(feature_vec)\n",
    "        \n",
    "        example_features_row_vec = np.hstack(features)\n",
    "        feature_rows.append(example_features_row_vec)\n",
    "    \n",
    "    X_features = np.vstack(feature_rows)\n",
    "    return X_features"
   ]
  },
  {
   "cell_type": "code",
   "execution_count": 9,
   "metadata": {
    "collapsed": false
   },
   "outputs": [
    {
     "name": "stdout",
     "output_type": "stream",
     "text": [
      "(1020, 1829)\n"
     ]
    }
   ],
   "source": [
    "from features import hog_feature, color_histogram_hsv\n",
    "\n",
    "num_color_bins = 100 # Number of bins in the color histogram\n",
    "#feature_fns = [extract_gist, hog_feature, lambda img: color_histogram_hsv(img, nbin=num_color_bins)]\n",
    "#feature_fns = [extract_gist, lambda img: color_histogram_hsv(img, nbin=num_color_bins)]\n",
    "#feature_fns = [extract_gist]\n",
    "#feature_fns = [lambda img: color_histogram_hsv(img, nbin=num_color_bins)]\n",
    "#feature_fns = [extract_gist, tiny_image]\n",
    "feature_fns = [extract_gist, tiny_image, lambda img: color_histogram_hsv(img, nbin=num_color_bins)]\n",
    "X_train_features = extract_features(X_train, feature_fns)\n",
    "#X_val_feats = extract_features(X_val, feature_fns)\n",
    "X_test_features = extract_features(X_test, feature_fns)\n",
    "\n",
    "# Preprocessing: Subtract the mean feature\n",
    "mean_features = np.mean(X_train_features, axis=0)\n",
    "mean_features = np.expand_dims(mean_features, axis=0)\n",
    "X_train_features -= mean_features\n",
    "#X_val_feats -= mean_feat\n",
    "X_test_features -= mean_features\n",
    "\n",
    "# Preprocessing: Divide by standard deviation. This ensures that each feature\n",
    "# has roughly the same scale.\n",
    "std_features = np.std(X_train_features, axis=0)\n",
    "std_features = np.expand_dims(std_features, axis=0)\n",
    "X_train_features /= std_features\n",
    "#X_val_feats /= std_feat\n",
    "X_test_features /= std_features\n",
    "\n",
    "# Preprocessing: Add a bias dimension\n",
    "X_train_features = np.hstack([X_train_features, np.ones((X_train_features.shape[0], 1))])\n",
    "#X_val_feats = np.hstack([X_val_feats, np.ones((1, X_val_feats.shape[1]))])\n",
    "X_test_features = np.hstack([X_test_features, np.ones((X_test_features.shape[0], 1))])\n",
    "\n",
    "\n",
    "#X_train_features = X_train_features.T\n",
    "#X_test_features = X_test_features.T\n",
    "\n",
    "print(X_train_features.shape)"
   ]
  },
  {
   "cell_type": "code",
   "execution_count": 20,
   "metadata": {
    "collapsed": false
   },
   "outputs": [
    {
     "name": "stdout",
     "output_type": "stream",
     "text": [
      "accuracy: 0.708824\n"
     ]
    }
   ],
   "source": [
    "from sklearn.svm import SVC\n",
    "#from sklearn.cross_validation import cross_val_score\n",
    "\n",
    "svm = SVC(kernel='linear', class_weight='balanced')\n",
    "svm.fit(X_train_features, y_train)\n",
    "\n",
    "y_pred = svm.predict(X_test_features)\n",
    "print('accuracy: %f' % (np.mean(y_pred == y_test)))"
   ]
  },
  {
   "cell_type": "code",
   "execution_count": 15,
   "metadata": {
    "collapsed": false,
    "scrolled": true
   },
   "outputs": [
    {
     "name": "stdout",
     "output_type": "stream",
     "text": [
      "[ 0.68050956  0.00236754  0.00752898  0.01382683  0.0071524   0.00244445\n",
      "  0.02441084  0.00217947  0.04845797  0.06338281  0.03288691  0.03804714\n",
      "  0.03154834  0.00359448  0.00398465  0.01450487  0.02317276]\n"
     ]
    }
   ],
   "source": [
    "from sklearn.svm import SVC\n",
    "#from sklearn.cross_validation import cross_val_score\n",
    "\n",
    "svm = SVC(kernel='linear', class_weight='balanced', probability=True)\n",
    "svm.fit(X_train_features, y_train)\n",
    "\n",
    "y_pred = svm.predict_proba(X_test_features)\n",
    "print(y_pred[0])\n",
    "#print('accuracy: %f' % (np.mean(y_pred == y_test)))"
   ]
  },
  {
   "cell_type": "code",
   "execution_count": 16,
   "metadata": {
    "collapsed": false
   },
   "outputs": [
    {
     "name": "stdout",
     "output_type": "stream",
     "text": [
      "[0, 9, 8, 11, 10]\n",
      "0.947058823529\n"
     ]
    }
   ],
   "source": [
    "y_augmented = [[(prob, index) for (index,prob) in enumerate(y_pred[index])] for index in range(len(y_pred))]\n",
    "y_sorted = [sorted(y_augmented[index], reverse=True) for index in range(len(y_augmented))]\n",
    "y_top5 = [y_sorted[index][:5] for index in range(len(y_sorted))]\n",
    "y_top5_labels = [[label for (prob, label) in y_top5[index]] for index in range(len(y_sorted))]\n",
    "print(y_top5_labels[0])\n",
    "\n",
    "num_within_top_5 = 0.0\n",
    "for index in range(len(y_test)):\n",
    "    if y_test[index] in y_top5_labels[index]:\n",
    "        num_within_top_5 += 1.0\n",
    "\n",
    "percentage_within_top_5 = num_within_top_5 / len(y_test)\n",
    "print(percentage_within_top_5)"
   ]
  },
  {
   "cell_type": "code",
   "execution_count": null,
   "metadata": {
    "collapsed": false
   },
   "outputs": [],
   "source": [
    "from sklearn.linear_model import SGDClassifier\n",
    "\n",
    "classifier = SGDClassifier(average=40, n_iter=100)\n",
    "classifier.fit(X_train_features, y_train)\n",
    "\n",
    "y_pred = classifier.predict(X_test_features)\n",
    "print('accuracy: %f' % (np.mean(y_pred == y_test)))"
   ]
  },
  {
   "cell_type": "code",
   "execution_count": 21,
   "metadata": {
    "collapsed": false,
    "scrolled": false
   },
   "outputs": [
    {
     "name": "stdout",
     "output_type": "stream",
     "text": [
      "1020\n",
      "[ 0.66666667  0.58823529  0.65686275  0.65686275  0.68627451  0.6372549\n",
      "  0.65686275  0.55882353  0.6372549   0.59803922]\n"
     ]
    }
   ],
   "source": [
    "from sklearn.cross_validation import KFold\n",
    "from sklearn.cross_validation import cross_val_score\n",
    "\n",
    "num_examples = X_train_features.shape[0]\n",
    "print(num_examples)\n",
    "cv = KFold(num_examples, n_folds=10, shuffle=True, random_state=None)\n",
    "\n",
    "svm_cv_accuracies = cross_val_score(svm, X_train_features, y_train, cv=cv, n_jobs=7)\n",
    "print(svm_cv_accuracies)"
   ]
  },
  {
   "cell_type": "code",
   "execution_count": null,
   "metadata": {
    "collapsed": false
   },
   "outputs": [],
   "source": [
    "from sklearn.grid_search import GridSearchCV\n",
    "\n",
    "param_grid = {\n",
    "    'C': [1e3, 5e3, 1e4, 5e4, 1e5],\n",
    "    'gamma': [0.0001, 0.0005, 0.001, 0.005, 0.01, 0.1],\n",
    "}\n",
    "\n",
    "#clf = GridSearchCV(svm, param_grid, scoring='f1', cv=cv, n_jobs=7)\n",
    "clf = GridSearchCV(svm, param_grid, cv=cv, n_jobs=7)\n",
    "\n",
    "clf = clf.fit(X_train_features, y_train)\n",
    "\n",
    "print(\"Best estimator found by randomized hyper parameter search:\")\n",
    "print(clf.best_params_)\n",
    "print(\"Best parameters validation score: {:.3f}\".format(clf.best_score_))"
   ]
  },
  {
   "cell_type": "code",
   "execution_count": null,
   "metadata": {
    "collapsed": true
   },
   "outputs": [],
   "source": []
  }
 ],
 "metadata": {
  "kernelspec": {
   "display_name": "Python 2",
   "language": "python",
   "name": "python2"
  },
  "language_info": {
   "codemirror_mode": {
    "name": "ipython",
    "version": 2
   },
   "file_extension": ".py",
   "mimetype": "text/x-python",
   "name": "python",
   "nbconvert_exporter": "python",
   "pygments_lexer": "ipython2",
   "version": "2.7.10"
  }
 },
 "nbformat": 4,
 "nbformat_minor": 0
}
