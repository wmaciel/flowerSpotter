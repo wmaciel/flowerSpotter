{
 "cells": [
  {
   "cell_type": "markdown",
   "metadata": {},
   "source": [
    "# Training a Simple CNN in Keras"
   ]
  },
  {
   "cell_type": "markdown",
   "metadata": {},
   "source": [
    "## Initial Setup"
   ]
  },
  {
   "cell_type": "code",
   "execution_count": 1,
   "metadata": {
    "collapsed": false
   },
   "outputs": [],
   "source": [
    "from __future__ import division\n",
    "from PIL import Image\n",
    "import os\n",
    "import numpy as np\n",
    "import matplotlib.pyplot as plt\n",
    "\n",
    "%matplotlib inline\n",
    "%load_ext autoreload\n",
    "%autoreload 2"
   ]
  },
  {
   "cell_type": "markdown",
   "metadata": {},
   "source": [
    "## Load Images into a Matrix"
   ]
  },
  {
   "cell_type": "code",
   "execution_count": 75,
   "metadata": {
    "collapsed": false
   },
   "outputs": [
    {
     "name": "stdout",
     "output_type": "stream",
     "text": [
      "(1360, 128, 128, 3)\n",
      "(1360,)\n"
     ]
    }
   ],
   "source": [
    "base_dir = 'square_images128'\n",
    "image_width = 128\n",
    "image_height = 128\n",
    "\n",
    "classes = ['daffodil',  'snowdrop', 'lily_valley', 'bluebell', 'crocus', 'iris', \n",
    "           'tigerlily', 'tulip', 'fritillary', 'sunflower', 'daisy', 'colts_foot', \n",
    "           'dandelion', 'cowslip', 'buttercup', 'windflower', 'pansy']\n",
    "\n",
    "class_dict = { class_name: index for (index, class_name) in enumerate(classes)}\n",
    "\n",
    "\n",
    "folders = os.listdir(base_dir)\n",
    "folders = [folder for folder in folders if folder != '.DS_Store']\n",
    "\n",
    "xs = []\n",
    "ys = []\n",
    "\n",
    "for folder_name in folders:\n",
    "    # We look up the class number based on the name of the folder the image is in.\n",
    "    # This maps a folder name like 'daffodil' to a class number like 0.\n",
    "    class_index = class_dict[folder_name]\n",
    "    \n",
    "    file_names = os.listdir(base_dir + '/' + folder_name)\n",
    "    file_names = [name for name in file_names if name != '.DS_Store']\n",
    "    \n",
    "    X = np.empty([len(file_names), image_width, image_height, 3])\n",
    "    y = []\n",
    "    \n",
    "    for (index, file_name) in enumerate(file_names):\n",
    "        file_path = base_dir + '/' + folder_name + '/' + file_name\n",
    "        #print(file_path)\n",
    "        I = np.array(Image.open(file_path))\n",
    "        X[index] = I\n",
    "        y.append(class_index)\n",
    "    \n",
    "    X_combined = X\n",
    "    y_array = np.array(y)\n",
    "    xs.append(X_combined)\n",
    "    ys.append(y_array)\n",
    "    \n",
    "    \n",
    "X_all = np.concatenate(xs)\n",
    "y_all = np.concatenate(ys)\n",
    "\n",
    "print(X_all.shape)\n",
    "print(y_all.shape)"
   ]
  },
  {
   "cell_type": "code",
   "execution_count": 76,
   "metadata": {
    "collapsed": true
   },
   "outputs": [],
   "source": [
    "# Randomly shuffle the input images and labels (IN THE SAME RANDOM ORDER SO THEY ARE STILL CORRELATED)\n",
    "rng_state = np.random.get_state()\n",
    "np.random.shuffle(X_all)\n",
    "np.random.set_state(rng_state)\n",
    "np.random.shuffle(y_all)"
   ]
  },
  {
   "cell_type": "code",
   "execution_count": 77,
   "metadata": {
    "collapsed": false
   },
   "outputs": [
    {
     "data": {
      "text/plain": [
       "\"\\n# 20% of training data reserved for the validation set\\n# Here we're using a fixed validation set, not doing cross-validation\\npercentage_validation = 0.20\\n\\nnum_total = X_train.shape[0]\\nnum_validation = int(num_total * percentage_validation)\\nnum_training = num_total - num_validation\\n\\n# Our validation set will be num_validation points from the original training set.\\nmask = range(num_training, num_training + num_validation)\\nX_val = X_train[mask]\\ny_val = y_train[mask]\\n\\n# Our training set will be the first num_training points from the original training set.\\nmask = range(num_training)\\nX_train = X_train[mask]\\ny_train = y_train[mask]\\n\""
      ]
     },
     "execution_count": 77,
     "metadata": {},
     "output_type": "execute_result"
    }
   ],
   "source": [
    "# Split the data into training/validation/testing segments\n",
    "from sklearn.cross_validation import train_test_split\n",
    "X_train, X_test, y_train, y_test = train_test_split(X_all, y_all, test_size=0.25)\n",
    "\n",
    "\"\"\"\n",
    "# 20% of training data reserved for the validation set\n",
    "# Here we're using a fixed validation set, not doing cross-validation\n",
    "percentage_validation = 0.20\n",
    "\n",
    "num_total = X_train.shape[0]\n",
    "num_validation = int(num_total * percentage_validation)\n",
    "num_training = num_total - num_validation\n",
    "\n",
    "# Our validation set will be num_validation points from the original training set.\n",
    "mask = range(num_training, num_training + num_validation)\n",
    "X_val = X_train[mask]\n",
    "y_val = y_train[mask]\n",
    "\n",
    "# Our training set will be the first num_training points from the original training set.\n",
    "mask = range(num_training)\n",
    "X_train = X_train[mask]\n",
    "y_train = y_train[mask]\n",
    "\"\"\""
   ]
  },
  {
   "cell_type": "code",
   "execution_count": 78,
   "metadata": {
    "collapsed": false
   },
   "outputs": [
    {
     "name": "stdout",
     "output_type": "stream",
     "text": [
      "(1020, 3, 128, 128)\n",
      "(340, 3, 128, 128)\n"
     ]
    }
   ],
   "source": [
    "# Normalize the data: subtract the mean image\n",
    "mean_image = np.mean(X_train, axis=0)\n",
    "X_train -= mean_image\n",
    "#X_val -= mean_image\n",
    "X_test -= mean_image\n",
    "\n",
    "# Transpose so that channels come first\n",
    "X_train = X_train.transpose(0, 3, 1, 2).copy()\n",
    "#X_val = X_val.transpose(0, 3, 1, 2).copy()\n",
    "X_test = X_test.transpose(0, 3, 1, 2).copy()\n",
    "\n",
    "print(X_train.shape)\n",
    "#print(X_val.shape)\n",
    "print(X_test.shape)"
   ]
  },
  {
   "cell_type": "code",
   "execution_count": 79,
   "metadata": {
    "collapsed": false
   },
   "outputs": [
    {
     "name": "stdout",
     "output_type": "stream",
     "text": [
      "X_train shape: (1020, 3, 128, 128)\n",
      "1020 train samples\n",
      "340 test samples\n",
      "[ 0.  0.  0.  0.  0.  0.  0.  0.  0.  0.  0.  1.  0.  0.  0.  0.  0.]\n",
      "Train on 918 samples, validate on 102 samples\n",
      "Epoch 1/30\n",
      "918/918 [==============================] - 10s - loss: 2.8585 - acc: 0.1362 - val_loss: 2.3778 - val_acc: 0.2941\n",
      "Epoch 2/30\n",
      "918/918 [==============================] - 10s - loss: 2.2384 - acc: 0.2484 - val_loss: 2.2310 - val_acc: 0.3137\n",
      "Epoch 3/30\n",
      "918/918 [==============================] - 10s - loss: 1.8949 - acc: 0.3529 - val_loss: 1.6030 - val_acc: 0.4608\n",
      "Epoch 4/30\n",
      "918/918 [==============================] - 10s - loss: 1.6468 - acc: 0.4444 - val_loss: 1.5191 - val_acc: 0.4608\n",
      "Epoch 5/30\n",
      "918/918 [==============================] - 11s - loss: 1.4687 - acc: 0.5033 - val_loss: 1.3075 - val_acc: 0.5980\n",
      "Epoch 6/30\n",
      "918/918 [==============================] - 10s - loss: 1.2274 - acc: 0.5959 - val_loss: 1.6173 - val_acc: 0.4314\n",
      "Epoch 7/30\n",
      "918/918 [==============================] - 10s - loss: 1.0100 - acc: 0.6667 - val_loss: 1.2593 - val_acc: 0.6569\n",
      "Epoch 8/30\n",
      "918/918 [==============================] - 10s - loss: 0.7510 - acc: 0.7593 - val_loss: 1.4516 - val_acc: 0.6078\n",
      "Epoch 9/30\n",
      "918/918 [==============================] - 10s - loss: 0.4940 - acc: 0.8333 - val_loss: 1.5228 - val_acc: 0.6373\n",
      "Epoch 10/30\n",
      "918/918 [==============================] - 10s - loss: 0.3277 - acc: 0.8824 - val_loss: 2.4454 - val_acc: 0.5882\n",
      "Epoch 11/30\n",
      "918/918 [==============================] - 10s - loss: 0.3056 - acc: 0.9096 - val_loss: 1.4167 - val_acc: 0.6765\n",
      "Epoch 12/30\n",
      "918/918 [==============================] - 10s - loss: 0.1583 - acc: 0.9532 - val_loss: 1.7108 - val_acc: 0.6569\n",
      "Epoch 13/30\n",
      "918/918 [==============================] - 10s - loss: 0.1175 - acc: 0.9641 - val_loss: 2.1559 - val_acc: 0.6176\n",
      "Epoch 14/30\n",
      "918/918 [==============================] - 10s - loss: 0.1047 - acc: 0.9662 - val_loss: 2.2281 - val_acc: 0.6275\n",
      "Epoch 15/30\n",
      "918/918 [==============================] - 10s - loss: 0.1195 - acc: 0.9706 - val_loss: 2.6157 - val_acc: 0.6275\n",
      "Epoch 16/30\n",
      "918/918 [==============================] - 10s - loss: 0.0944 - acc: 0.9630 - val_loss: 2.2464 - val_acc: 0.6275\n",
      "Epoch 17/30\n",
      "918/918 [==============================] - 10s - loss: 0.0650 - acc: 0.9826 - val_loss: 2.2440 - val_acc: 0.6471\n",
      "Epoch 18/30\n",
      "918/918 [==============================] - 10s - loss: 0.0555 - acc: 0.9837 - val_loss: 2.2858 - val_acc: 0.6176\n",
      "Epoch 19/30\n",
      "918/918 [==============================] - 10s - loss: 0.0565 - acc: 0.9815 - val_loss: 2.2847 - val_acc: 0.6765\n",
      "Epoch 20/30\n",
      "918/918 [==============================] - 10s - loss: 0.0578 - acc: 0.9804 - val_loss: 2.4147 - val_acc: 0.7059\n",
      "Epoch 21/30\n",
      "918/918 [==============================] - 10s - loss: 0.0623 - acc: 0.9847 - val_loss: 2.1975 - val_acc: 0.6471\n",
      "Epoch 22/30\n",
      "918/918 [==============================] - 10s - loss: 0.0267 - acc: 0.9935 - val_loss: 2.5682 - val_acc: 0.6275\n",
      "Epoch 23/30\n",
      "918/918 [==============================] - 10s - loss: 0.0155 - acc: 0.9967 - val_loss: 2.6479 - val_acc: 0.6176\n",
      "Epoch 24/30\n",
      "918/918 [==============================] - 10s - loss: 0.0744 - acc: 0.9880 - val_loss: 2.7122 - val_acc: 0.6765\n",
      "Epoch 25/30\n",
      "918/918 [==============================] - 10s - loss: 0.0624 - acc: 0.9869 - val_loss: 2.7267 - val_acc: 0.6275\n",
      "Epoch 26/30\n",
      "918/918 [==============================] - 10s - loss: 0.0307 - acc: 0.9891 - val_loss: 2.8931 - val_acc: 0.6569\n",
      "Epoch 27/30\n",
      "918/918 [==============================] - 10s - loss: 0.0452 - acc: 0.9902 - val_loss: 2.6385 - val_acc: 0.6569\n",
      "Epoch 28/30\n",
      "918/918 [==============================] - 10s - loss: 0.0373 - acc: 0.9891 - val_loss: 2.6562 - val_acc: 0.6176\n",
      "Epoch 29/30\n",
      "918/918 [==============================] - 10s - loss: 0.0612 - acc: 0.9837 - val_loss: 2.7780 - val_acc: 0.6275\n",
      "Epoch 30/30\n",
      "918/918 [==============================] - 10s - loss: 0.0395 - acc: 0.9858 - val_loss: 2.9450 - val_acc: 0.6667\n",
      "340/340 [==============================] - 1s     \n",
      "<keras.callbacks.History object at 0x7fe8c70976d0>\n",
      "Test score: 3.74360495736\n",
      "Test accuracy: 0.555882352941\n"
     ]
    }
   ],
   "source": [
    "from __future__ import absolute_import\n",
    "from __future__ import print_function\n",
    "from keras.datasets import cifar10\n",
    "from keras.preprocessing.image import ImageDataGenerator\n",
    "from keras.models import Sequential\n",
    "from keras.layers.core import Dense, Dropout, Activation, Flatten\n",
    "from keras.layers.convolutional import Convolution2D, MaxPooling2D\n",
    "from keras.optimizers import SGD, Adadelta, Adagrad\n",
    "from keras.utils import np_utils, generic_utils\n",
    "from six.moves import range\n",
    "\n",
    "'''\n",
    "    Train a (fairly simple) deep CNN on the CIFAR10 small images dataset.\n",
    "\n",
    "    GPU run command:\n",
    "        THEANO_FLAGS=mode=FAST_RUN,device=gpu,floatX=float32 python cifar10_cnn.py\n",
    "\n",
    "    It gets down to 0.65 test logloss in 25 epochs, and down to 0.55 after 50 epochs.\n",
    "    (it's still underfitting at that point, though).\n",
    "\n",
    "    Note: the data was pickled with Python 2, and some encoding issues might prevent you\n",
    "    from loading it in Python 3. You might have to load it in Python 2,\n",
    "    save it in a different format, load it in Python 3 and repickle it.\n",
    "'''\n",
    "\n",
    "batch_size = 16\n",
    "num_classes = 17\n",
    "num_epochs = 30\n",
    "\n",
    "# input image dimensions\n",
    "img_rows, img_cols = 128, 128\n",
    "# the images are RGB\n",
    "img_channels = 3\n",
    "\n",
    "# the data, shuffled and split between train and test sets\n",
    "print('X_train shape:', X_train.shape)\n",
    "print(X_train.shape[0], 'train samples')\n",
    "print(X_test.shape[0], 'test samples')\n",
    "\n",
    "# convert class vectors to binary class matrices\n",
    "Y_train = np_utils.to_categorical(y_train, num_classes)\n",
    "Y_test = np_utils.to_categorical(y_test, num_classes)\n",
    "\n",
    "print(Y_train[0])\n",
    "\n",
    "\n",
    "model = Sequential()\n",
    "\n",
    "model.add(Convolution2D(32, 3, 3, border_mode='full',\n",
    "                        input_shape=(img_channels, img_rows, img_cols)))\n",
    "model.add(Activation('relu'))\n",
    "model.add(Convolution2D(32, 3, 3))\n",
    "model.add(Activation('relu'))\n",
    "model.add(MaxPooling2D(pool_size=(2, 2)))\n",
    "model.add(Dropout(0.25))\n",
    "\n",
    "model.add(Convolution2D(64, 3, 3, border_mode='full'))\n",
    "model.add(Activation('relu'))\n",
    "model.add(Convolution2D(64, 3, 3))\n",
    "model.add(Activation('relu'))\n",
    "model.add(MaxPooling2D(pool_size=(2, 2)))\n",
    "model.add(Dropout(0.25))\n",
    "\n",
    "model.add(Flatten())\n",
    "model.add(Dense(512))\n",
    "model.add(Activation('relu'))\n",
    "model.add(Dropout(0.5))\n",
    "model.add(Dense(num_classes))\n",
    "model.add(Activation('softmax'))\n",
    "\n",
    "# let's train the model using SGD + momentum (how original).\n",
    "#sgd = SGD(lr=0.01, decay=1e-6, momentum=0.9, nesterov=True)\n",
    "#adagrad = Adagrad(lr=0.01, epsilon=1e-6)\n",
    "adadelta = Adadelta(lr=1.0, rho=0.95, epsilon=1e-6)\n",
    "model.compile(loss='categorical_crossentropy', optimizer=adadelta)\n",
    "\n",
    "X_train = X_train.astype(\"float32\")\n",
    "X_test = X_test.astype(\"float32\")\n",
    "X_train /= 255\n",
    "X_test /= 255\n",
    "\n",
    "history = model.fit(X_train, Y_train, batch_size=batch_size, nb_epoch=num_epochs, validation_split=0.1, show_accuracy=True, verbose=1)\n",
    "(loss, accuracy) = model.evaluate(X_test, Y_test, batch_size=batch_size, show_accuracy=True)\n",
    "print(history)\n",
    "print('Test score:', loss)\n",
    "print('Test accuracy:', accuracy)"
   ]
  },
  {
   "cell_type": "code",
   "execution_count": 80,
   "metadata": {
    "collapsed": false
   },
   "outputs": [
    {
     "data": {
      "text/plain": [
       "<matplotlib.text.Text at 0x7fe8d8b67cd0>"
      ]
     },
     "execution_count": 80,
     "metadata": {},
     "output_type": "execute_result"
    },
    {
     "data": {
      "image/png": "[encoded data removed]",
      "text/plain": [
       "<matplotlib.figure.Figure at 0x7fe8c6c2ef90>"
      ]
     },
     "metadata": {},
     "output_type": "display_data"
    }
   ],
   "source": [
    "training_accuracies = history.history['acc']\n",
    "validation_accuracies = history.history['val_acc']\n",
    "\n",
    "plt.plot(training_accuracies)\n",
    "plt.plot(validation_accuracies)\n",
    "plt.legend(['Training', 'Validation'])\n",
    "plt.xlabel('Epoch')\n",
    "plt.ylabel('Accuracy')\n",
    "plt.title('Training a CNN on 128x128 Images')"
   ]
  },
  {
   "cell_type": "code",
   "execution_count": null,
   "metadata": {
    "collapsed": true
   },
   "outputs": [],
   "source": []
  }
 ],
 "metadata": {
  "kernelspec": {
   "display_name": "Python 2",
   "language": "python",
   "name": "python2"
  },
  "language_info": {
   "codemirror_mode": {
    "name": "ipython",
    "version": 2
   },
   "file_extension": ".py",
   "mimetype": "text/x-python",
   "name": "python",
   "nbconvert_exporter": "python",
   "pygments_lexer": "ipython2",
   "version": "2.7.6"
  }
 },
 "nbformat": 4,
 "nbformat_minor": 0
}
