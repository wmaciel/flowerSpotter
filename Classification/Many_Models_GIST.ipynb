{
 "cells": [
  {
   "cell_type": "markdown",
   "metadata": {},
   "source": [
    "# Classification using GIST Features"
   ]
  },
  {
   "cell_type": "markdown",
   "metadata": {},
   "source": [
    "## Initial Setup"
   ]
  },
  {
   "cell_type": "code",
   "execution_count": 1,
   "metadata": {
    "collapsed": false
   },
   "outputs": [],
   "source": [
    "from __future__ import division\n",
    "from PIL import Image\n",
    "import os\n",
    "import numpy as np\n",
    "import matplotlib\n",
    "import matplotlib.pyplot as plt\n",
    "\n",
    "import gist\n",
    "import imageutils\n",
    "\n",
    "%matplotlib inline\n",
    "plt.rcParams['figure.figsize'] = (10.0, 8.0) # set default size of plots\n",
    "plt.rcParams['image.interpolation'] = 'nearest'\n",
    "plt.rcParams['image.cmap'] = 'gray'\n",
    "\n",
    "%load_ext autoreload\n",
    "%autoreload 2"
   ]
  },
  {
   "cell_type": "markdown",
   "metadata": {},
   "source": [
    "### Load Images into a Matrix"
   ]
  },
  {
   "cell_type": "code",
   "execution_count": 2,
   "metadata": {
    "collapsed": false
   },
   "outputs": [
    {
     "name": "stdout",
     "output_type": "stream",
     "text": [
      "(1020, 128, 128, 3)\n",
      "['bluebell', 'buttercup', 'colts_foot', 'cowslip', 'crocus', 'daffodil', 'daisy', 'dandelion', 'fritillary', 'iris', 'lily_valley', 'pansy', 'snowdrop', 'sunflower', 'tigerlily', 'tulip', 'windflower']\n"
     ]
    }
   ],
   "source": [
    "base_dir = 'square_images128_traintest'\n",
    "#(X_all, y_all, classes, class_dict) = imageutils.load_data(base_dir)\n",
    "(X_train, y_train, classes, class_dict) = imageutils.load_data(base_dir + '/train')\n",
    "(X_test, y_test, _, _) = imageutils.load_data(base_dir + '/test')\n",
    "image_height = X_train.shape[1]\n",
    "image_width = X_train.shape[2]\n",
    "print(X_train.shape)\n",
    "print(classes)"
   ]
  },
  {
   "cell_type": "markdown",
   "metadata": {},
   "source": [
    "### Define feature extraction functions"
   ]
  },
  {
   "cell_type": "code",
   "execution_count": 3,
   "metadata": {
    "collapsed": false
   },
   "outputs": [],
   "source": [
    "def extract_all_gist_features(X):\n",
    "    num_examples = X.shape[0]\n",
    "    features = []\n",
    "    for index in range(num_examples):\n",
    "        feature_vec = gist.extract(X[index].astype('uint8'))\n",
    "        features.append(feature_vec)\n",
    "    \n",
    "    X_features = np.vstack(features)\n",
    "    return X_features"
   ]
  },
  {
   "cell_type": "code",
   "execution_count": 4,
   "metadata": {
    "collapsed": true
   },
   "outputs": [],
   "source": [
    "def extract_gist(I):\n",
    "    return gist.extract(I.astype('uint8'))"
   ]
  },
  {
   "cell_type": "code",
   "execution_count": 5,
   "metadata": {
    "collapsed": false
   },
   "outputs": [],
   "source": [
    "def tiny_image(image_array, width=16, height=16):\n",
    "    I = Image.fromarray(image_array.astype('uint8'))\n",
    "    I_tiny = I.resize((width, height))\n",
    "    I_tiny_array = np.array(I_tiny).astype('float')\n",
    "    return np.reshape(I_tiny_array, width * height * 3)"
   ]
  },
  {
   "cell_type": "code",
   "execution_count": 6,
   "metadata": {
    "collapsed": true
   },
   "outputs": [],
   "source": [
    "def color_histogram_rgb(image_array):\n",
    "    h, edges = np.histogramdd(image_array.reshape(-1,3), 8, normed=True, range=[(0,255), (0,255), (0,255)])\n",
    "    return h.flatten()"
   ]
  },
  {
   "cell_type": "code",
   "execution_count": 7,
   "metadata": {
    "collapsed": false
   },
   "outputs": [
    {
     "data": {
      "text/plain": [
       "(512,)"
      ]
     },
     "execution_count": 7,
     "metadata": {},
     "output_type": "execute_result"
    }
   ],
   "source": [
    "color_histogram_rgb(X_train[0]).shape"
   ]
  },
  {
   "cell_type": "code",
   "execution_count": 8,
   "metadata": {
    "collapsed": false
   },
   "outputs": [],
   "source": [
    "def extract_features(X, feature_functions):\n",
    "    num_examples = X.shape[0]\n",
    "    feature_rows = []\n",
    "    for index in range(num_examples):\n",
    "        I = X[index]\n",
    "        features = []\n",
    "        for feature_func in feature_functions:\n",
    "            feature_vec = feature_func(I)\n",
    "            features.append(feature_vec)\n",
    "        \n",
    "        example_features_row_vec = np.hstack(features)\n",
    "        feature_rows.append(example_features_row_vec)\n",
    "    \n",
    "    X_features = np.vstack(feature_rows)\n",
    "    return X_features"
   ]
  },
  {
   "cell_type": "markdown",
   "metadata": {},
   "source": [
    "### Extract features and concatenates them"
   ]
  },
  {
   "cell_type": "code",
   "execution_count": 9,
   "metadata": {
    "collapsed": false
   },
   "outputs": [
    {
     "name": "stdout",
     "output_type": "stream",
     "text": [
      "(1020, 1829)\n"
     ]
    }
   ],
   "source": [
    "from features import hog_feature, color_histogram_hsv\n",
    "\n",
    "num_color_bins = 100 # Number of bins in the color histogram\n",
    "#feature_fns = [extract_gist, hog_feature, lambda img: color_histogram_hsv(img, nbin=num_color_bins)]\n",
    "#feature_fns = [extract_gist, lambda img: color_histogram_hsv(img, nbin=num_color_bins)]\n",
    "#feature_fns = [extract_gist]\n",
    "#feature_fns = [lambda img: color_histogram_hsv(img, nbin=num_color_bins)]\n",
    "#feature_fns = [extract_gist, tiny_image]\n",
    "feature_fns = [extract_gist, tiny_image, lambda img: color_histogram_hsv(img, nbin=num_color_bins)]\n",
    "\n",
    "X_train_features = extract_features(X_train, feature_fns)\n",
    "X_test_features = extract_features(X_test, feature_fns)\n",
    "\n",
    "# Preprocessing: Subtract the mean feature\n",
    "mean_features = np.mean(X_train_features, axis=0)\n",
    "mean_features = np.expand_dims(mean_features, axis=0)\n",
    "X_train_features -= mean_features\n",
    "X_test_features -= mean_features\n",
    "\n",
    "# Preprocessing: Divide by standard deviation. This ensures that each feature\n",
    "# has roughly the same scale.\n",
    "std_features = np.std(X_train_features, axis=0)\n",
    "std_features = np.expand_dims(std_features, axis=0)\n",
    "X_train_features /= std_features\n",
    "X_test_features /= std_features\n",
    "\n",
    "# Preprocessing: Add a bias dimension\n",
    "X_train_features = np.hstack([X_train_features, np.ones((X_train_features.shape[0], 1))])\n",
    "X_test_features = np.hstack([X_test_features, np.ones((X_test_features.shape[0], 1))])\n",
    "\n",
    "print(X_train_features.shape)"
   ]
  },
  {
   "cell_type": "markdown",
   "metadata": {},
   "source": [
    "## Training models\n",
    "### Naïve Bayes\n",
    "There are no variables to cross validate here"
   ]
  },
  {
   "cell_type": "code",
   "execution_count": 10,
   "metadata": {
    "collapsed": false
   },
   "outputs": [
    {
     "name": "stdout",
     "output_type": "stream",
     "text": [
      "Naive Bayes accuracy on full training set: 0.561765\n"
     ]
    }
   ],
   "source": [
    "from sklearn.naive_bayes import GaussianNB\n",
    "\n",
    "gnb = GaussianNB()\n",
    "y_pred = gnb.fit(X_train_features, y_train).predict(X_test_features)\n",
    "print('Naive Bayes accuracy on full training set: %f' % (np.mean(y_pred == y_test)))"
   ]
  },
  {
   "cell_type": "code",
   "execution_count": 11,
   "metadata": {
    "collapsed": false
   },
   "outputs": [
    {
     "name": "stdout",
     "output_type": "stream",
     "text": [
      "Average Naive Bayes accuracy: 0.499020\n"
     ]
    }
   ],
   "source": [
    "from sklearn.cross_validation import KFold\n",
    "from sklearn.cross_validation import cross_val_score\n",
    "\n",
    "num_examples = X_train_features.shape[0]\n",
    "cv = KFold(num_examples, n_folds=10, shuffle=True, random_state=None)\n",
    "\n",
    "gnb_cv_accuracies = cross_val_score(gnb, X_train_features, y_train, cv=cv, n_jobs=7)\n",
    "print('Average Naive Bayes accuracy: %f' % gnb_cv_accuracies.mean())"
   ]
  },
  {
   "cell_type": "markdown",
   "metadata": {},
   "source": [
    "### Decision Tree"
   ]
  },
  {
   "cell_type": "code",
   "execution_count": 35,
   "metadata": {
    "collapsed": false
   },
   "outputs": [
    {
     "name": "stdout",
     "output_type": "stream",
     "text": [
      "Decision Tree accuracy: 0.420588\n"
     ]
    }
   ],
   "source": [
    "from sklearn.tree import DecisionTreeClassifier\n",
    "\n",
    "dtc = DecisionTreeClassifier(min_samples_split=16)\n",
    "y_pred = dtc.fit(X_train_features, y_train).predict(X_test_features)\n",
    "print('Decision Tree accuracy: %f' % (np.mean(y_pred == y_test)))"
   ]
  },
  {
   "cell_type": "code",
   "execution_count": 13,
   "metadata": {
    "collapsed": false
   },
   "outputs": [
    {
     "name": "stdout",
     "output_type": "stream",
     "text": [
      "Average accuracy with 2 : 0.344117647059\n",
      "Average accuracy with 4 : 0.337254901961\n",
      "Average accuracy with 8 : 0.345098039216\n",
      "Average accuracy with 16 : 0.35\n",
      "Average accuracy with 32 : 0.361764705882\n",
      "Average accuracy with 64 : 0.341176470588\n",
      "Average accuracy with 128 : 0.266666666667\n",
      "Average accuracy with 256 : 0.197058823529\n",
      "Average accuracy with 512 : 0.11862745098\n"
     ]
    }
   ],
   "source": [
    "from sklearn.cross_validation import KFold\n",
    "from sklearn.cross_validation import cross_val_score\n",
    "\n",
    "test_values = [2, 4, 8, 16, 32, 64, 128, 256, 512]\n",
    "\n",
    "num_examples = X_train_features.shape[0]\n",
    "cv = KFold(num_examples, n_folds=10, shuffle=True, random_state=None)\n",
    "\n",
    "dtc_avg_accuracies = []\n",
    "for v in test_values:\n",
    "    dtc = DecisionTreeClassifier(min_samples_split=v)\n",
    "    dtc_cv_accuracies = cross_val_score(dtc, X_train_features, y_train, cv=cv, n_jobs=7)\n",
    "    dtc_cv_acc_mean = dtc_cv_accuracies.mean()\n",
    "    dtc_avg_accuracies.append(dtc_cv_acc_mean)\n",
    "    print 'Average accuracy with ' + str(v) + ' : ' + str(dtc_cv_acc_mean)\n",
    "    "
   ]
  },
  {
   "cell_type": "code",
   "execution_count": 14,
   "metadata": {
    "collapsed": false
   },
   "outputs": [
    {
     "data": {
      "image/png": "[encoded data removed]",
      "text/plain": [
       "<matplotlib.figure.Figure at 0x10e14f3d0>"
      ]
     },
     "metadata": {},
     "output_type": "display_data"
    }
   ],
   "source": [
    "import matplotlib.pyplot as plt\n",
    "\n",
    "plt.plot(test_values, dtc_avg_accuracies)\n",
    "plt.ylabel('Average accuracy')\n",
    "plt.show()"
   ]
  },
  {
   "cell_type": "markdown",
   "metadata": {},
   "source": [
    "### Random Forest"
   ]
  },
  {
   "cell_type": "code",
   "execution_count": 15,
   "metadata": {
    "collapsed": false
   },
   "outputs": [
    {
     "name": "stdout",
     "output_type": "stream",
     "text": [
      "Random Forest accuracy: 0.714706\n"
     ]
    }
   ],
   "source": [
    "from sklearn.ensemble import RandomForestClassifier\n",
    "\n",
    "rfc = RandomForestClassifier(n_estimators=1024, min_samples_split=2, n_jobs=-1)\n",
    "y_pred = rfc.fit(X_train_features, y_train).predict(X_test_features)\n",
    "print('Random Forest accuracy: %f' % (np.mean(y_pred == y_test)))"
   ]
  },
  {
   "cell_type": "code",
   "execution_count": 16,
   "metadata": {
    "collapsed": false
   },
   "outputs": [
    {
     "name": "stdout",
     "output_type": "stream",
     "text": [
      "Average accuracy with 1 : 0.28137254902\n",
      "Average accuracy with 2 : 0.275490196078\n",
      "Average accuracy with 4 : 0.347058823529\n",
      "Average accuracy with 8 : 0.405882352941\n",
      "Average accuracy with 16 : 0.461764705882\n",
      "Average accuracy with 32 : 0.529411764706\n",
      "Average accuracy with 64 : 0.56862745098\n",
      "Average accuracy with 128 : 0.596078431373\n",
      "Average accuracy with 256 : 0.610784313725\n",
      "Average accuracy with 512 : 0.630392156863\n",
      "Average accuracy with 1024 : 0.630392156863\n",
      "Average accuracy with 2048 : 0.623529411765\n"
     ]
    }
   ],
   "source": [
    "from sklearn.cross_validation import KFold\n",
    "from sklearn.cross_validation import cross_val_score\n",
    "\n",
    "test_values = [1, 2, 4, 8, 16, 32, 64, 128, 256, 512, 1024, 2048]\n",
    "\n",
    "num_examples = X_train_features.shape[0]\n",
    "cv = KFold(num_examples, n_folds=10, shuffle=True, random_state=None)\n",
    "\n",
    "rfc_avg_accuracies = []\n",
    "for v in test_values:\n",
    "    rfc = RandomForestClassifier(n_estimators=v, min_samples_split=2, n_jobs=-1)\n",
    "    rfc_cv_accuracies = cross_val_score(rfc, X_train_features, y_train, cv=cv, n_jobs=7)\n",
    "    rfc_cv_acc_mean = rfc_cv_accuracies.mean()\n",
    "    rfc_avg_accuracies.append(rfc_cv_acc_mean)\n",
    "    print 'Average accuracy with ' + str(v) + ' : ' + str(rfc_cv_acc_mean)\n",
    "    "
   ]
  },
  {
   "cell_type": "code",
   "execution_count": 17,
   "metadata": {
    "collapsed": false
   },
   "outputs": [
    {
     "data": {
      "image/png": "[encoded data removed]",
      "text/plain": [
       "<matplotlib.figure.Figure at 0x10e1e1410>"
      ]
     },
     "metadata": {},
     "output_type": "display_data"
    }
   ],
   "source": [
    "import matplotlib.pyplot as plt\n",
    "\n",
    "plt.plot(test_values, rfc_avg_accuracies)\n",
    "plt.ylabel('Average accuracy')\n",
    "plt.show()"
   ]
  },
  {
   "cell_type": "code",
   "execution_count": 18,
   "metadata": {
    "collapsed": false
   },
   "outputs": [
    {
     "name": "stdout",
     "output_type": "stream",
     "text": [
      "Average accuracy with 2 : 0.614705882353\n",
      "Average accuracy with 4 : 0.61862745098\n",
      "Average accuracy with 8 : 0.613725490196\n",
      "Average accuracy with 16 : 0.607843137255\n",
      "Average accuracy with 32 : 0.590196078431\n",
      "Average accuracy with 64 : 0.538235294118\n",
      "Average accuracy with 128 : 0.466666666667\n"
     ]
    }
   ],
   "source": [
    "from sklearn.cross_validation import KFold\n",
    "from sklearn.cross_validation import cross_val_score\n",
    "\n",
    "test_values = [2, 4, 8, 16, 32, 64, 128]\n",
    "\n",
    "num_examples = X_train_features.shape[0]\n",
    "cv = KFold(num_examples, n_folds=10, shuffle=True, random_state=None)\n",
    "\n",
    "rfc_avg_accuracies = []\n",
    "for v in test_values:\n",
    "    rfc = RandomForestClassifier(n_estimators=512, min_samples_split=v, n_jobs=-1)\n",
    "    rfc_cv_accuracies = cross_val_score(rfc, X_train_features, y_train, cv=cv, n_jobs=7)\n",
    "    rfc_cv_acc_mean = rfc_cv_accuracies.mean()\n",
    "    rfc_avg_accuracies.append(rfc_cv_acc_mean)\n",
    "    print 'Average accuracy with ' + str(v) + ' : ' + str(rfc_cv_acc_mean)"
   ]
  },
  {
   "cell_type": "code",
   "execution_count": 19,
   "metadata": {
    "collapsed": false
   },
   "outputs": [
    {
     "data": {
      "image/png": "[encoded data removed]",
      "text/plain": [
       "<matplotlib.figure.Figure at 0x10e1c6050>"
      ]
     },
     "metadata": {},
     "output_type": "display_data"
    }
   ],
   "source": [
    "import matplotlib.pyplot as plt\n",
    "\n",
    "plt.plot(test_values, rfc_avg_accuracies)\n",
    "plt.ylabel('Average accuracy')\n",
    "plt.show()"
   ]
  },
  {
   "cell_type": "markdown",
   "metadata": {},
   "source": [
    "### Gradient Boost"
   ]
  },
  {
   "cell_type": "code",
   "execution_count": 20,
   "metadata": {
    "collapsed": false
   },
   "outputs": [
    {
     "name": "stdout",
     "output_type": "stream",
     "text": [
      "Gradient Boosting accuracy: 0.688235\n"
     ]
    }
   ],
   "source": [
    "from sklearn.ensemble import GradientBoostingClassifier\n",
    "\n",
    "gbc = GradientBoostingClassifier(learning_rate=0.01, n_estimators=512, max_features='auto')\n",
    "y_pred = gbc.fit(X_train_features, y_train).predict(X_test_features)\n",
    "print('Gradient Boosting accuracy: %f' % (np.mean(y_pred == y_test)))"
   ]
  },
  {
   "cell_type": "code",
   "execution_count": 21,
   "metadata": {
    "collapsed": false
   },
   "outputs": [
    {
     "name": "stdout",
     "output_type": "stream",
     "text": [
      "Average accuracy with 32, 0.01 : 0.567647058824\n",
      "Average accuracy with 32, 0.02 : 0.569607843137\n",
      "Average accuracy with 32, 0.04 : 0.564705882353\n",
      "Average accuracy with 32, 0.08 : 0.560784313725\n",
      "Average accuracy with 32, 0.16 : 0.517647058824\n",
      "Average accuracy with 32, 0.32 : 0.471568627451\n",
      "Average accuracy with 64, 0.01 : 0.578431372549\n",
      "Average accuracy with 64, 0.02 : 0.589215686275\n",
      "Average accuracy with 64, 0.04 : 0.589215686275\n",
      "Average accuracy with 64, 0.08 : 0.589215686275\n",
      "Average accuracy with 64, 0.16 : 0.555882352941\n",
      "Average accuracy with 64, 0.32 : 0.526470588235\n",
      "Average accuracy with 128, 0.01 : 0.595098039216\n",
      "Average accuracy with 128, 0.02 : 0.597058823529\n",
      "Average accuracy with 128, 0.04 : 0.596078431373\n",
      "Average accuracy with 128, 0.08 : 0.595098039216\n",
      "Average accuracy with 128, 0.16 : 0.585294117647\n",
      "Average accuracy with 128, 0.32 : 0.51568627451\n",
      "Average accuracy with 256, 0.01 : 0.605882352941\n",
      "Average accuracy with 256, 0.02 : 0.597058823529\n",
      "Average accuracy with 256, 0.04 : 0.605882352941\n",
      "Average accuracy with 256, 0.08 : 0.622549019608\n",
      "Average accuracy with 256, 0.16 : 0.592156862745\n",
      "Average accuracy with 256, 0.32 : 0.523529411765\n",
      "Average accuracy with 512, 0.01 : 0.61568627451\n",
      "Average accuracy with 512, 0.02 : 0.610784313725\n",
      "Average accuracy with 512, 0.04 : 0.626470588235\n",
      "Average accuracy with 512, 0.08 : 0.621568627451\n",
      "Average accuracy with 512, 0.16 : 0.591176470588\n",
      "Average accuracy with 512, 0.32 : 0.513725490196\n"
     ]
    }
   ],
   "source": [
    "from sklearn.cross_validation import KFold\n",
    "from sklearn.cross_validation import cross_val_score\n",
    "\n",
    "n_values = [32, 64, 128, 256, 512]\n",
    "rate_values = [0.01, 0.02, 0.04, 0.08, 0.16, 0.32]\n",
    "\n",
    "num_examples = X_train_features.shape[0]\n",
    "cv = KFold(num_examples, n_folds=10, shuffle=True, random_state=None)\n",
    "\n",
    "gbc_avg_accuracies = []\n",
    "for n in n_values:\n",
    "    n_avgs = []\n",
    "    for r in rate_values:\n",
    "        gbc = GradientBoostingClassifier(learning_rate=r, n_estimators=n, max_features='auto')\n",
    "        gbc_cv_accuracies = cross_val_score(gbc, X_train_features, y_train, cv=cv, n_jobs=-1)\n",
    "        gbc_cv_acc_mean = gbc_cv_accuracies.mean()\n",
    "        n_avgs.append(gbc_cv_acc_mean)\n",
    "        print 'Average accuracy with ' + str(n) + ', ' + str(r) + ' : ' + str(gbc_cv_acc_mean)\n",
    "    gbc_avg_accuracies.append(n_avgs)"
   ]
  },
  {
   "cell_type": "code",
   "execution_count": 22,
   "metadata": {
    "collapsed": false
   },
   "outputs": [
    {
     "data": {
      "image/png": "[encoded data removed]",
      "text/plain": [
       "<matplotlib.figure.Figure at 0x10e4b9750>"
      ]
     },
     "metadata": {},
     "output_type": "display_data"
    }
   ],
   "source": [
    "import matplotlib.pyplot as plt\n",
    "\n",
    "for i, n in enumerate(gbc_avg_accuracies):\n",
    "    plt.plot(rate_values, n, label=str(i))\n",
    "\n",
    "plt.legend()\n",
    "plt.ylabel('Average accuracy')\n",
    "plt.show()"
   ]
  },
  {
   "cell_type": "markdown",
   "metadata": {},
   "source": [
    "### Adaboost"
   ]
  },
  {
   "cell_type": "code",
   "execution_count": 36,
   "metadata": {
    "collapsed": false
   },
   "outputs": [
    {
     "name": "stdout",
     "output_type": "stream",
     "text": [
      "Ada Boosting accuracy: 0.620588\n"
     ]
    }
   ],
   "source": [
    "from sklearn.ensemble import AdaBoostClassifier\n",
    "from sklearn.tree import DecisionTreeClassifier\n",
    "dtc = DecisionTreeClassifier(min_samples_split=16)\n",
    "\n",
    "abc = AdaBoostClassifier(algorithm='SAMME', base_estimator=dtc, n_estimators=40, learning_rate=1.0)\n",
    "y_pred = abc.fit(X_train_features, y_train).predict(X_test_features)\n",
    "print('Ada Boosting accuracy: %f' % (np.mean(y_pred == y_test)))"
   ]
  },
  {
   "cell_type": "code",
   "execution_count": 40,
   "metadata": {
    "collapsed": false
   },
   "outputs": [
    {
     "name": "stdout",
     "output_type": "stream",
     "text": [
      "Average accuracy for dtc, with 2 : 0.229411764706\n",
      "Average accuracy for dtc, with 4 : 0.299019607843\n",
      "Average accuracy for dtc, with 8 : 0.348039215686\n",
      "Average accuracy for dtc, with 16 : 0.385294117647\n",
      "Average accuracy for dtc, with 32 : 0.46568627451\n",
      "Average accuracy for dtc, with 64 : 0.51862745098\n",
      "Average accuracy for svm, with 2 : 0.633333333333\n",
      "Average accuracy for svm, with 4 : 0.606862745098\n",
      "Average accuracy for svm, with 8 : 0.608823529412\n",
      "Average accuracy for svm, with 16 : 0.617647058824\n",
      "Average accuracy for svm, with 32 : 0.600980392157\n",
      "Average accuracy for svm, with 64 : 0.595098039216\n",
      "Average accuracy for stump, with 2 : 0.158823529412\n",
      "Average accuracy for stump, with 4 : 0.144117647059\n",
      "Average accuracy for stump, with 8 : 0.233333333333\n",
      "Average accuracy for stump, with 16 : 0.28431372549\n",
      "Average accuracy for stump, with 32 : 0.335294117647\n",
      "Average accuracy for stump, with 64 : 0.344117647059\n"
     ]
    }
   ],
   "source": [
    "from sklearn.cross_validation import KFold\n",
    "from sklearn.cross_validation import cross_val_score\n",
    "\n",
    "# imports for calling the base classfifiers\n",
    "from sklearn.tree import DecisionTreeClassifier\n",
    "from sklearn.naive_bayes import GaussianNB\n",
    "from sklearn.svm import SVC\n",
    "\n",
    "bases = {\n",
    "    'stump' : DecisionTreeClassifier(max_depth=2),\n",
    "    'dtc' : DecisionTreeClassifier(min_samples_split=16, max_features='auto'),\n",
    "    'svm' : SVC(kernel='linear', class_weight='auto')\n",
    "}\n",
    "\n",
    "n_estimators_values = [2, 4, 8, 16, 32, 64]\n",
    "\n",
    "num_examples = X_train_features.shape[0]\n",
    "cv = KFold(num_examples, n_folds=5, shuffle=True, random_state=None)\n",
    "\n",
    "gbc_avg_accuracies = []\n",
    "for bs, bo in bases.items():\n",
    "    n_avgs = []\n",
    "    for n in n_estimators_values:\n",
    "        gbc = AdaBoostClassifier(algorithm='SAMME', base_estimator=bo, n_estimators=n, learning_rate=1.0)\n",
    "        gbc_cv_accuracies = cross_val_score(gbc, X_train_features, y_train, cv=cv, n_jobs=-1)\n",
    "        gbc_cv_acc_mean = gbc_cv_accuracies.mean()\n",
    "        n_avgs.append(gbc_cv_acc_mean)\n",
    "        print 'Average accuracy for ' + bs + ', with ' + str(n) + ' : ' + str(gbc_cv_acc_mean)\n",
    "    gbc_avg_accuracies.append(n_avgs)"
   ]
  },
  {
   "cell_type": "code",
   "execution_count": 41,
   "metadata": {
    "collapsed": false
   },
   "outputs": [
    {
     "data": {
      "image/png": "[encoded data removed]",
      "text/plain": [
       "<matplotlib.figure.Figure at 0x10bd8efd0>"
      ]
     },
     "metadata": {},
     "output_type": "display_data"
    }
   ],
   "source": [
    "import matplotlib.pyplot as plt\n",
    "\n",
    "base_strs = bases.keys()\n",
    "\n",
    "for i, n in enumerate(gbc_avg_accuracies):\n",
    "    plt.plot(n_estimators_values, n, label=base_strs[i])\n",
    "\n",
    "plt.legend()\n",
    "plt.ylabel('Average accuracy')\n",
    "plt.show()"
   ]
  },
  {
   "cell_type": "code",
   "execution_count": 24,
   "metadata": {
    "collapsed": false
   },
   "outputs": [
    {
     "name": "stdout",
     "output_type": "stream",
     "text": [
      "SVM accuracy: 0.708824\n"
     ]
    }
   ],
   "source": [
    "from sklearn.svm import SVC\n",
    "\n",
    "svm = SVC(kernel='linear', class_weight='auto')\n",
    "svm.fit(X_train_features, y_train)\n",
    "\n",
    "y_pred = svm.predict(X_test_features)\n",
    "print('SVM accuracy: %f' % (np.mean(y_pred == y_test)))"
   ]
  },
  {
   "cell_type": "code",
   "execution_count": 25,
   "metadata": {
    "collapsed": false,
    "scrolled": false
   },
   "outputs": [
    {
     "name": "stdout",
     "output_type": "stream",
     "text": [
      "[ 0.56862745  0.69607843  0.71568627  0.61764706  0.61764706  0.61764706\n",
      "  0.61764706  0.6372549   0.76470588  0.51960784]\n"
     ]
    }
   ],
   "source": [
    "from sklearn.cross_validation import KFold\n",
    "from sklearn.cross_validation import cross_val_score\n",
    "\n",
    "num_examples = X_train_features.shape[0]\n",
    "cv = KFold(num_examples, n_folds=10, shuffle=True, random_state=None)\n",
    "\n",
    "svm_cv_accuracies = cross_val_score(svm, X_train_features, y_train, cv=cv, n_jobs=7)\n",
    "print(svm_cv_accuracies)"
   ]
  },
  {
   "cell_type": "code",
   "execution_count": null,
   "metadata": {
    "collapsed": true
   },
   "outputs": [],
   "source": []
  }
 ],
 "metadata": {
  "kernelspec": {
   "display_name": "Python 2",
   "language": "python",
   "name": "python2"
  },
  "language_info": {
   "codemirror_mode": {
    "name": "ipython",
    "version": 2
   },
   "file_extension": ".py",
   "mimetype": "text/x-python",
   "name": "python",
   "nbconvert_exporter": "python",
   "pygments_lexer": "ipython2",
   "version": "2.7.10"
  }
 },
 "nbformat": 4,
 "nbformat_minor": 0
}
