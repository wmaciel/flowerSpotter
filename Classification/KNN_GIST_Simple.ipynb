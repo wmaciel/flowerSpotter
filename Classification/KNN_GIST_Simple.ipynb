{
 "cells": [
  {
   "cell_type": "markdown",
   "metadata": {},
   "source": [
    "# KNN Classification using GIST Features"
   ]
  },
  {
   "cell_type": "markdown",
   "metadata": {},
   "source": [
    "## Initial Setup"
   ]
  },
  {
   "cell_type": "code",
   "execution_count": 1,
   "metadata": {
    "collapsed": false
   },
   "outputs": [],
   "source": [
    "from __future__ import division\n",
    "from PIL import Image\n",
    "import os\n",
    "import numpy as np\n",
    "import matplotlib\n",
    "import matplotlib.pyplot as plt\n",
    "\n",
    "import gist\n",
    "import imageutils\n",
    "\n",
    "%matplotlib inline\n",
    "#plt.rcParams['figure.figsize'] = (10.0, 8.0) # set default size of plots\n",
    "#plt.rcParams['image.interpolation'] = 'nearest'\n",
    "#plt.rcParams['image.cmap'] = 'gray'\n",
    "\n",
    "%load_ext autoreload\n",
    "%autoreload 2"
   ]
  },
  {
   "cell_type": "markdown",
   "metadata": {},
   "source": [
    "## Load Images into a Matrix"
   ]
  },
  {
   "cell_type": "code",
   "execution_count": 2,
   "metadata": {
    "collapsed": false
   },
   "outputs": [
    {
     "name": "stdout",
     "output_type": "stream",
     "text": [
      "(1020, 128, 128, 3)\n",
      "['bluebell', 'buttercup', 'colts_foot', 'cowslip', 'crocus', 'daffodil', 'daisy', 'dandelion', 'fritillary', 'iris', 'lily_valley', 'pansy', 'snowdrop', 'sunflower', 'tigerlily', 'tulip', 'windflower']\n"
     ]
    }
   ],
   "source": [
    "base_dir = 'square_images128_traintest'\n",
    "#(X_all, y_all, classes, class_dict) = imageutils.load_data(base_dir)\n",
    "(X_train, y_train, classes, class_dict) = imageutils.load_data(base_dir + '/train')\n",
    "(X_test, y_test, _, _) = imageutils.load_data(base_dir + '/test')\n",
    "image_height = X_train.shape[1]\n",
    "image_width = X_train.shape[2]\n",
    "print(X_train.shape)\n",
    "print(classes)"
   ]
  },
  {
   "cell_type": "code",
   "execution_count": 3,
   "metadata": {
    "collapsed": false
   },
   "outputs": [],
   "source": [
    "def extract_all_gist_features(X):\n",
    "    num_examples = X.shape[0]\n",
    "    features = []\n",
    "    for index in range(num_examples):\n",
    "        feature_vec = gist.extract(X[index].astype('uint8'))\n",
    "        features.append(feature_vec)\n",
    "    \n",
    "    X_features = np.vstack(features)\n",
    "    return X_features"
   ]
  },
  {
   "cell_type": "code",
   "execution_count": 4,
   "metadata": {
    "collapsed": true
   },
   "outputs": [],
   "source": [
    "def extract_gist(I):\n",
    "    return gist.extract(I.astype('uint8'))"
   ]
  },
  {
   "cell_type": "code",
   "execution_count": 5,
   "metadata": {
    "collapsed": false
   },
   "outputs": [],
   "source": [
    "def tiny_image(image_array, width=16, height=16):\n",
    "    I = Image.fromarray(image_array.astype('uint8'))\n",
    "    I_tiny = I.resize((width, height))\n",
    "    I_tiny_array = np.array(I_tiny).astype('float')\n",
    "    return np.reshape(I_tiny_array, width * height * 3)"
   ]
  },
  {
   "cell_type": "code",
   "execution_count": 6,
   "metadata": {
    "collapsed": true
   },
   "outputs": [],
   "source": [
    "def color_histogram_rgb(image_array):\n",
    "    h, edges = np.histogramdd(image_array.reshape(-1,3), 8, normed=True, range=[(0,255), (0,255), (0,255)])\n",
    "    return h.flatten()"
   ]
  },
  {
   "cell_type": "code",
   "execution_count": 7,
   "metadata": {
    "collapsed": false
   },
   "outputs": [
    {
     "data": {
      "text/plain": [
       "(512,)"
      ]
     },
     "execution_count": 7,
     "metadata": {},
     "output_type": "execute_result"
    }
   ],
   "source": [
    "color_histogram_rgb(X_train[0]).shape"
   ]
  },
  {
   "cell_type": "code",
   "execution_count": 8,
   "metadata": {
    "collapsed": false
   },
   "outputs": [],
   "source": [
    "def extract_features(X, feature_functions):\n",
    "    num_examples = X.shape[0]\n",
    "    feature_rows = []\n",
    "    for index in range(num_examples):\n",
    "        I = X[index]\n",
    "        features = []\n",
    "        for feature_func in feature_functions:\n",
    "            feature_vec = feature_func(I)\n",
    "            features.append(feature_vec)\n",
    "        \n",
    "        example_features_row_vec = np.hstack(features)\n",
    "        feature_rows.append(example_features_row_vec)\n",
    "    \n",
    "    X_features = np.vstack(feature_rows)\n",
    "    return X_features"
   ]
  },
  {
   "cell_type": "code",
   "execution_count": 9,
   "metadata": {
    "collapsed": false
   },
   "outputs": [
    {
     "name": "stdout",
     "output_type": "stream",
     "text": [
      "(1020, 1303)\n"
     ]
    }
   ],
   "source": [
    "from features import hog_feature, color_histogram_hsv\n",
    "\n",
    "num_color_bins = 150 # Number of bins in the color histogram\n",
    "#feature_fns = [extract_gist, hog_feature, lambda img: color_histogram_hsv(img, nbin=num_color_bins)]\n",
    "#feature_fns = [extract_gist, lambda img: color_histogram_hsv(img, nbin=num_color_bins)]\n",
    "#feature_fns = [hog_feature]\n",
    "#feature_fns = [lambda img: color_histogram_hsv(img, nbin=num_color_bins)]\n",
    "#feature_fns = [extract_gist, tiny_image]\n",
    "feature_fns = [extract_gist, tiny_image, lambda img: color_histogram_hsv(img, nbin=num_color_bins)]\n",
    "X_train_features = extract_features(X_train, feature_fns)\n",
    "X_test_features = extract_features(X_test, feature_fns)\n",
    "\n",
    "# Preprocessing: Subtract the mean feature\n",
    "mean_features = np.mean(X_train_features, axis=0)\n",
    "mean_features = np.expand_dims(mean_features, axis=0)\n",
    "X_train_features -= mean_features\n",
    "X_test_features -= mean_features\n",
    "\n",
    "# Preprocessing: Divide by standard deviation. This ensures that each feature\n",
    "# has roughly the same scale.\n",
    "std_features = np.std(X_train_features, axis=0)\n",
    "std_features = np.expand_dims(std_features, axis=0)\n",
    "X_train_features /= std_features\n",
    "X_test_features /= std_features\n",
    "\n",
    "# Preprocessing: Add a bias dimension\n",
    "X_train_features = np.hstack([X_train_features, np.ones((X_train_features.shape[0], 1))])\n",
    "X_test_features = np.hstack([X_test_features, np.ones((X_test_features.shape[0], 1))])\n",
    "\n",
    "print(X_train_features.shape)"
   ]
  },
  {
   "cell_type": "code",
   "execution_count": 10,
   "metadata": {
    "collapsed": false
   },
   "outputs": [
    {
     "name": "stdout",
     "output_type": "stream",
     "text": [
      "accuracy: 0.541176470588\n"
     ]
    }
   ],
   "source": [
    "from sklearn.neighbors import KNeighborsClassifier\n",
    "\n",
    "# This does 1-nearest-neighbour with L1 distance\n",
    "clf = KNeighborsClassifier(n_neighbors=1, p=1, weights='uniform')\n",
    "clf.fit(X_train_features, y_train)\n",
    "y_pred = clf.predict(X_test_features)\n",
    "accuracy = np.mean(y_pred == y_test)\n",
    "print(\"accuracy: {0}\".format(accuracy))"
   ]
  },
  {
   "cell_type": "markdown",
   "metadata": {
    "collapsed": true
   },
   "source": [
    "## Plot a Confusion Matrix to Show Performance of KNN"
   ]
  },
  {
   "cell_type": "code",
   "execution_count": 11,
   "metadata": {
    "collapsed": false
   },
   "outputs": [
    {
     "data": {
      "text/plain": [
       "<matplotlib.text.Text at 0x10454c1d0>"
      ]
     },
     "execution_count": 11,
     "metadata": {},
     "output_type": "execute_result"
    },
    {
     "data": {
      "image/png": "[encoded data removed]",
      "text/plain": [
       "<matplotlib.figure.Figure at 0x10b7a2c50>"
      ]
     },
     "metadata": {},
     "output_type": "display_data"
    }
   ],
   "source": [
    "from sklearn.metrics import confusion_matrix\n",
    "confusion = confusion_matrix(y_test, y_pred)\n",
    "plt.imshow(confusion, interpolation='nearest')\n",
    "tick_marks = np.arange(len(classes))\n",
    "plt.title('KNN Confusion Matrix')\n",
    "plt.xticks(tick_marks, classes, rotation=90)\n",
    "plt.yticks(tick_marks, classes)\n",
    "plt.ylabel('True label')\n",
    "plt.xlabel('Predicted label')"
   ]
  },
  {
   "cell_type": "code",
   "execution_count": null,
   "metadata": {
    "collapsed": true
   },
   "outputs": [],
   "source": []
  }
 ],
 "metadata": {
  "kernelspec": {
   "display_name": "Python 2",
   "language": "python",
   "name": "python2"
  },
  "language_info": {
   "codemirror_mode": {
    "name": "ipython",
    "version": 2
   },
   "file_extension": ".py",
   "mimetype": "text/x-python",
   "name": "python",
   "nbconvert_exporter": "python",
   "pygments_lexer": "ipython2",
   "version": "2.7.10"
  }
 },
 "nbformat": 4,
 "nbformat_minor": 0
}
